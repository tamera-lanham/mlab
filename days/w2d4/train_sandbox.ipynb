{
 "cells": [
  {
   "cell_type": "code",
   "execution_count": 2,
   "metadata": {},
   "outputs": [],
   "source": [
    "%load_ext autoreload\n",
    "%autoreload 2\n",
    "\n",
    "import train"
   ]
  },
  {
   "cell_type": "code",
   "execution_count": 3,
   "metadata": {},
   "outputs": [
    {
     "name": "stderr",
     "output_type": "stream",
     "text": [
      "100%|██████████| 84.1M/84.1M [05:39<00:00, 248kB/s] \n"
     ]
    },
    {
     "data": {
      "application/vnd.jupyter.widget-view+json": {
       "model_id": "fa7e3d568a3d4e2d8ec19173396373dd",
       "version_major": 2,
       "version_minor": 0
      },
      "text/plain": [
       "Downloading:   0%|          | 0.00/29.0 [00:00<?, ?B/s]"
      ]
     },
     "metadata": {},
     "output_type": "display_data"
    },
    {
     "data": {
      "application/vnd.jupyter.widget-view+json": {
       "model_id": "5516b4429c834c23ad02af0ed5cdc493",
       "version_major": 2,
       "version_minor": 0
      },
      "text/plain": [
       "Downloading:   0%|          | 0.00/208k [00:00<?, ?B/s]"
      ]
     },
     "metadata": {},
     "output_type": "display_data"
    },
    {
     "data": {
      "application/vnd.jupyter.widget-view+json": {
       "model_id": "5b6f779d9dd440b693f0ea7e112807b4",
       "version_major": 2,
       "version_minor": 0
      },
      "text/plain": [
       "Downloading:   0%|          | 0.00/426k [00:00<?, ?B/s]"
      ]
     },
     "metadata": {},
     "output_type": "display_data"
    },
    {
     "name": "stderr",
     "output_type": "stream",
     "text": [
      "100%|██████████| 782/782 [01:38<00:00,  7.98it/s]\n",
      "100%|██████████| 782/782 [01:35<00:00,  8.17it/s]\n",
      "Some weights of the model checkpoint at bert-base-cased were not used when initializing BertForMaskedLM: ['cls.seq_relationship.bias', 'cls.seq_relationship.weight']\n",
      "- This IS expected if you are initializing BertForMaskedLM from the checkpoint of a model trained on another task or with another architecture (e.g. initializing a BertForSequenceClassification model from a BertForPreTraining model).\n",
      "- This IS NOT expected if you are initializing BertForMaskedLM from the checkpoint of a model that you expect to be exactly identical (initializing a BertForSequenceClassification model from a BertForSequenceClassification model).\n",
      "100%|██████████| 782/782 [06:58<00:00,  1.87it/s, acc=0.869, loss=0.331, gpu usage=27.6 GiB]\n"
     ]
    }
   ],
   "source": [
    "bert, loss_vals, accs = train.main(data_config={'batch_size': 32, 'n_epochs': 1, 'batches_per_epoch': None})"
   ]
  },
  {
   "cell_type": "code",
   "execution_count": null,
   "metadata": {
    "tags": []
   },
   "outputs": [],
   "source": [
    "import matplotlib.pyplot as plt\n",
    "plt.plot([loss_tensor.cpu().detach().numpy() for loss_tensor in loss_vals])"
   ]
  },
  {
   "cell_type": "code",
   "execution_count": 6,
   "metadata": {},
   "outputs": [
    {
     "data": {
      "text/plain": [
       "[0.75,\n",
       " 0.34375,\n",
       " 0.0,\n",
       " 1.0,\n",
       " 0.0,\n",
       " 1.0,\n",
       " 1.0,\n",
       " 0.9375,\n",
       " 0.34375,\n",
       " 1.0,\n",
       " 0.5,\n",
       " 0.53125,\n",
       " 0.625,\n",
       " 0.21875,\n",
       " 0.21875,\n",
       " 0.8125,\n",
       " 0.625,\n",
       " 0.8125,\n",
       " 0.0,\n",
       " 0.84375,\n",
       " 0.5,\n",
       " 0.6875,\n",
       " 0.21875,\n",
       " 0.84375,\n",
       " 0.25,\n",
       " 0.625,\n",
       " 0.78125,\n",
       " 0.625,\n",
       " 0.75,\n",
       " 0.375,\n",
       " 0.53125,\n",
       " 0.4375,\n",
       " 0.53125,\n",
       " 0.9375,\n",
       " 0.125,\n",
       " 0.40625,\n",
       " 0.46875,\n",
       " 0.59375,\n",
       " 0.0,\n",
       " 0.21875,\n",
       " 0.375,\n",
       " 0.15625,\n",
       " 0.625,\n",
       " 0.78125,\n",
       " 0.71875,\n",
       " 0.90625,\n",
       " 0.9375,\n",
       " 0.71875,\n",
       " 1.0,\n",
       " 0.6875,\n",
       " 0.75,\n",
       " 0.59375,\n",
       " 0.90625,\n",
       " 0.96875,\n",
       " 0.78125,\n",
       " 0.625,\n",
       " 1.0,\n",
       " 1.0,\n",
       " 1.0,\n",
       " 0.875,\n",
       " 0.96875,\n",
       " 0.8125,\n",
       " 0.90625,\n",
       " 0.6451612710952759,\n",
       " 0.96875,\n",
       " 0.9375,\n",
       " 0.9375,\n",
       " 0.78125,\n",
       " 1.0,\n",
       " 0.96875,\n",
       " 0.96875,\n",
       " 0.84375,\n",
       " 0.84375,\n",
       " 0.84375,\n",
       " 0.84375,\n",
       " 0.9375,\n",
       " 0.84375,\n",
       " 0.78125,\n",
       " 0.9375]"
      ]
     },
     "execution_count": 6,
     "metadata": {},
     "output_type": "execute_result"
    }
   ],
   "source": [
    "accs"
   ]
  },
  {
   "cell_type": "code",
   "execution_count": null,
   "metadata": {},
   "outputs": [],
   "source": [
    "plt.plot([loss_tensor.cpu().detach().numpy() for loss_tensor in loss_vals + loss_vals_2])"
   ]
  },
  {
   "cell_type": "code",
   "execution_count": null,
   "metadata": {},
   "outputs": [],
   "source": [
    "train.save(bert)"
   ]
  },
  {
   "cell_type": "code",
   "execution_count": null,
   "metadata": {},
   "outputs": [],
   "source": []
  },
  {
   "cell_type": "code",
   "execution_count": null,
   "metadata": {},
   "outputs": [],
   "source": [
    "%load_ext autoreload\n",
    "%autoreload 2\n",
    "\n",
    "import train"
   ]
  },
  {
   "cell_type": "code",
   "execution_count": null,
   "metadata": {},
   "outputs": [
    {
     "name": "stderr",
     "output_type": "stream",
     "text": [
      "100%|██████████| 84.1M/84.1M [05:39<00:00, 248kB/s] \n"
     ]
    },
    {
     "data": {
      "application/vnd.jupyter.widget-view+json": {
       "model_id": "fa7e3d568a3d4e2d8ec19173396373dd",
       "version_major": 2,
       "version_minor": 0
      },
      "text/plain": [
       "Downloading:   0%|          | 0.00/29.0 [00:00<?, ?B/s]"
      ]
     },
     "metadata": {},
     "output_type": "display_data"
    },
    {
     "data": {
      "application/vnd.jupyter.widget-view+json": {
       "model_id": "5516b4429c834c23ad02af0ed5cdc493",
       "version_major": 2,
       "version_minor": 0
      },
      "text/plain": [
       "Downloading:   0%|          | 0.00/208k [00:00<?, ?B/s]"
      ]
     },
     "metadata": {},
     "output_type": "display_data"
    },
    {
     "data": {
      "application/vnd.jupyter.widget-view+json": {
       "model_id": "5b6f779d9dd440b693f0ea7e112807b4",
       "version_major": 2,
       "version_minor": 0
      },
      "text/plain": [
       "Downloading:   0%|          | 0.00/426k [00:00<?, ?B/s]"
      ]
     },
     "metadata": {},
     "output_type": "display_data"
    },
    {
     "name": "stderr",
     "output_type": "stream",
     "text": [
      "100%|██████████| 782/782 [01:38<00:00,  7.98it/s]\n",
      "100%|██████████| 782/782 [01:35<00:00,  8.17it/s]\n",
      "Some weights of the model checkpoint at bert-base-cased were not used when initializing BertForMaskedLM: ['cls.seq_relationship.bias', 'cls.seq_relationship.weight']\n",
      "- This IS expected if you are initializing BertForMaskedLM from the checkpoint of a model trained on another task or with another architecture (e.g. initializing a BertForSequenceClassification model from a BertForPreTraining model).\n",
      "- This IS NOT expected if you are initializing BertForMaskedLM from the checkpoint of a model that you expect to be exactly identical (initializing a BertForSequenceClassification model from a BertForSequenceClassification model).\n",
      "100%|██████████| 782/782 [06:58<00:00,  1.87it/s, acc=0.869, loss=0.331, gpu usage=27.6 GiB]\n"
     ]
    }
   ],
   "source": [
    "bert, loss_vals, accs = train.main(data_config={'batch_size': 32, 'n_epochs': 1, 'batches_per_epoch': None})"
   ]
  },
  {
   "cell_type": "code",
   "execution_count": null,
   "metadata": {},
   "outputs": [
    {
     "name": "stderr",
     "output_type": "stream",
     "text": [
      "[autoreload of train failed: Traceback (most recent call last):\n",
      "  File \"/usr/lib/python3/dist-packages/IPython/extensions/autoreload.py\", line 245, in check\n",
      "    superreload(m, reload, self.old_objects)\n",
      "  File \"/usr/lib/python3/dist-packages/IPython/extensions/autoreload.py\", line 410, in superreload\n",
      "    update_generic(old_obj, new_obj)\n",
      "  File \"/usr/lib/python3/dist-packages/IPython/extensions/autoreload.py\", line 347, in update_generic\n",
      "    update(a, b)\n",
      "  File \"/usr/lib/python3/dist-packages/IPython/extensions/autoreload.py\", line 266, in update_function\n",
      "    setattr(old, name, getattr(new, name))\n",
      "ValueError: main() requires a code object with 0 free vars, not 7\n",
      "]\n"
     ]
    },
    {
     "data": {
      "text/plain": [
       "[<matplotlib.lines.Line2D at 0x7fa29439bfa0>]"
      ]
     },
     "execution_count": 4,
     "metadata": {},
     "output_type": "execute_result"
    },
    {
     "data": {
      "image/png": "[encoded data removed]",
      "text/plain": [
       "<Figure size 432x288 with 1 Axes>"
      ]
     },
     "metadata": {
      "needs_background": "light"
     },
     "output_type": "display_data"
    }
   ],
   "source": [
    "import matplotlib.pyplot as plt\n",
    "plt.plot([loss_tensor.cpu().detach().numpy() for loss_tensor in loss_vals])"
   ]
  },
  {
   "cell_type": "code",
   "execution_count": null,
   "metadata": {},
   "outputs": [
    {
     "data": {
      "text/plain": [
       "[0.75,\n",
       " 0.34375,\n",
       " 0.0,\n",
       " 1.0,\n",
       " 0.0,\n",
       " 1.0,\n",
       " 1.0,\n",
       " 0.9375,\n",
       " 0.34375,\n",
       " 1.0,\n",
       " 0.5,\n",
       " 0.53125,\n",
       " 0.625,\n",
       " 0.21875,\n",
       " 0.21875,\n",
       " 0.8125,\n",
       " 0.625,\n",
       " 0.8125,\n",
       " 0.0,\n",
       " 0.84375,\n",
       " 0.5,\n",
       " 0.6875,\n",
       " 0.21875,\n",
       " 0.84375,\n",
       " 0.25,\n",
       " 0.625,\n",
       " 0.78125,\n",
       " 0.625,\n",
       " 0.75,\n",
       " 0.375,\n",
       " 0.53125,\n",
       " 0.4375,\n",
       " 0.53125,\n",
       " 0.9375,\n",
       " 0.125,\n",
       " 0.40625,\n",
       " 0.46875,\n",
       " 0.59375,\n",
       " 0.0,\n",
       " 0.21875,\n",
       " 0.375,\n",
       " 0.15625,\n",
       " 0.625,\n",
       " 0.78125,\n",
       " 0.71875,\n",
       " 0.90625,\n",
       " 0.9375,\n",
       " 0.71875,\n",
       " 1.0,\n",
       " 0.6875,\n",
       " 0.75,\n",
       " 0.59375,\n",
       " 0.90625,\n",
       " 0.96875,\n",
       " 0.78125,\n",
       " 0.625,\n",
       " 1.0,\n",
       " 1.0,\n",
       " 1.0,\n",
       " 0.875,\n",
       " 0.96875,\n",
       " 0.8125,\n",
       " 0.90625,\n",
       " 0.6451612710952759,\n",
       " 0.96875,\n",
       " 0.9375,\n",
       " 0.9375,\n",
       " 0.78125,\n",
       " 1.0,\n",
       " 0.96875,\n",
       " 0.96875,\n",
       " 0.84375,\n",
       " 0.84375,\n",
       " 0.84375,\n",
       " 0.84375,\n",
       " 0.9375,\n",
       " 0.84375,\n",
       " 0.78125,\n",
       " 0.9375]"
      ]
     },
     "execution_count": 6,
     "metadata": {},
     "output_type": "execute_result"
    }
   ],
   "source": [
    "accs"
   ]
  },
  {
   "cell_type": "code",
   "execution_count": null,
   "metadata": {},
   "outputs": [],
   "source": [
    "plt.plot([loss_tensor.cpu().detach().numpy() for loss_tensor in loss_vals + loss_vals_2])"
   ]
  },
  {
   "cell_type": "code",
   "execution_count": null,
   "metadata": {},
   "outputs": [],
   "source": [
    "train.save(bert)"
   ]
  },
  {
   "cell_type": "code",
   "execution_count": null,
   "metadata": {},
   "outputs": [],
   "source": []
  }
 ],
 "metadata": {
  "kernelspec": {
   "display_name": "Python 3",
   "language": "python",
   "name": "python3"
  },
  "language_info": {
   "codemirror_mode": {
    "name": "ipython",
    "version": 3
   },
   "file_extension": ".py",
   "mimetype": "text/x-python",
   "name": "python",
   "nbconvert_exporter": "python",
   "pygments_lexer": "ipython3",
   "version": "3.8.10"
  }
 },
 "nbformat": 4,
 "nbformat_minor": 4
}
