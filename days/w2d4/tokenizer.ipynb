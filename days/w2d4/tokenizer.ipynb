{
 "cells": [
  {
   "cell_type": "code",
   "execution_count": null,
   "metadata": {},
   "outputs": [],
   "source": [
    "import tokenizer\n",
    "from tqdm import tqdm\n",
    "import re\n",
    "from collections import Counter"
   ]
  },
  {
   "cell_type": "code",
   "execution_count": null,
   "metadata": {},
   "outputs": [],
   "source": [
    "def corpus_common_tokens(corpus, n=3*1e5):\n",
    "    counter = Counter()\n",
    "    for text in corpus:\n",
    "        tokens = re.findall(r\"\\w+|[^\\w\\s]\", text)\n",
    "        counter.update(tokens)\n",
    "    tokens, counts = zip(*counter.most_common(int(n)))\n",
    "    return tokens\n",
    "\n",
    "\n",
    "common_tokens = corpus_common_tokens(tokenizer.corpus)\n",
    "tokenizer.test_tokenizer_from_corpus_fn(corpus_common_tokens)"
   ]
  },
  {
   "cell_type": "code",
   "execution_count": null,
   "metadata": {},
   "outputs": [],
   "source": [
    "class Tokenizer:\n",
    "    \n",
    "    def __init__(self, token_list): # token_list: List[{“piece”:str, ”id”:int}]\n",
    "        self.token_list = token_list\n",
    "        self.token_dict = {d['id']: d['piece'] for d in token_list}\n",
    "        self.reverse_token_dict = {v: k for k,v in self.token_dict.items()}\n",
    "        self.unk = '[UNK]'\n",
    "        self.unk_id = 3\n",
    "        \n",
    "    def decode(self, ids):\n",
    "        return ''.join([self.token_dict.get(id_, self.unk) for id_ in ids])\n",
    "    \n",
    "    def tokenize(self, string):\n",
    "        tokens = re.findall(r\"\\w+|[^\\w\\s]\", string)\n",
    "        return [self.reverse_token_dict.get(token, self.unk_id) for token in tokens]\n",
    "        \n",
    "tokenizer.test_tokenizer(Tokenizer)"
   ]
  },
  {
   "cell_type": "code",
   "execution_count": null,
   "metadata": {},
   "outputs": [],
   "source": [
    "class BPETokenizer(Tokenizer):\n",
    "    \n",
    "    def __init__(self, token_list, k=int(1e3)):\n",
    "        super().__init__(token_list)\n",
    "        self.k = k\n",
    "        \n",
    "    def tokenize(self, string):\n",
    "        merges, tokens = 0, list(string)\n",
    "        while merges <= self.k:\n",
    "            for idx, token in enumerate(tokens):\n",
    "                # Oh we should merge idx and idx+1!\n",
    "                any_merges=False\n",
    "                if idx+1 < len(tokens):\n",
    "                    print(idx, len(tokens))\n",
    "                    if self.reverse_token_dict.get(token + tokens[idx+1], False):\n",
    "                        merge_temp = token + tokens[idx+1]\n",
    "                        tokens[idx] = merge_temp\n",
    "                        tokens.pop(idx+1)\n",
    "                        merges += 1\n",
    "                        any_merges = True\n",
    "                        break\n",
    "            if not any_merges: break\n",
    "        return tokens\n",
    "    \n",
    "    #Make a method from_corpus(corpus: List[str]) on your BPETokenizer class. \n",
    "    # It should break the texts into char tokens, \n",
    "    # then count the number of each pair of sequential token(char) in the corpus. \n",
    "    # Then create a new token that’s the concatenation of the two most common sequential tokens. \n",
    "    # Repeat this some number of times. \n",
    "\n",
    "    def from_corpus_old(self, corpus):\n",
    "        tokens = [char for string in corpus for char in string]\n",
    "        new_tokens = ['  ']  # ' ', ' ' -> '  '\n",
    "        \n",
    "        for i in range(self.k):\n",
    "            pairs = [tokens[i-1] + token for i, token in enumerate(tokens, 1)]\n",
    "            counter = Counter(pairs)\n",
    "            new_token, _ = counter.most_common(1)[0]\n",
    "            \n",
    "            \n",
    "    def from_corpus(self, corpus):\n",
    "        tokens = [char for string in corpus for char in string]\n",
    "\n",
    "        for i in tqdm(range(self.k)):\n",
    "            pairs = [token + tokens[i+1] for i, token in enumerate(tokens[:-1])]\n",
    "            \n",
    "            d = {}\n",
    "            for i, pair in enumerate(pairs):\n",
    "                if pair not in d: d[pair] = []\n",
    "                d[pair].append(i)\n",
    "                \n",
    "            most_common, most_common_i = max(d.items(), key=lambda pair: len(pair[1]))\n",
    "            \n",
    "            j, new_tokens = 0, []\n",
    "            while j < len(tokens):\n",
    "                if j in most_common_i: \n",
    "                    new_tokens.append(most_common)\n",
    "                    j += 1\n",
    "                else: new_tokens.append(tokens[j])\n",
    "                j += 1\n",
    "            \n",
    "            tokens = new_tokens\n",
    "            \n",
    "        return tokens"
   ]
  },
  {
   "cell_type": "markdown",
   "metadata": {},
   "source": [
    "---"
   ]
  },
  {
   "cell_type": "markdown",
   "metadata": {},
   "source": [
    "# Viterbi pseudocode\n",
    "\n",
    "- No substring of a string can be less likely than the string itself\n",
    "\n",
    "\n",
    "```\n",
    "\n",
    "```"
   ]
  },
  {
   "cell_type": "code",
   "execution_count": null,
   "metadata": {},
   "outputs": [],
   "source": [
    "reference = tokenizer.Tokenizer.from_corpus(tokenizer.corpus)\n",
    "t = BPETokenizer(token_list=reference.token_list, k = 5000)"
   ]
  },
  {
   "cell_type": "code",
   "execution_count": null,
   "metadata": {},
   "outputs": [
    {
     "name": "stderr",
     "output_type": "stream",
     "text": [
      "100%|██████████| 5000/5000 [02:53<00:00, 28.80it/s]\n"
     ]
    }
   ],
   "source": [
    "tokens = t.from_corpus(tokenizer.minicorpus)"
   ]
  },
  {
   "cell_type": "code",
   "execution_count": null,
   "metadata": {},
   "outputs": [
    {
     "data": {
      "text/plain": [
       "11829"
      ]
     },
     "execution_count": 159,
     "metadata": {},
     "output_type": "execute_result"
    }
   ],
   "source": [
    "max([len(t) for t in tokens])"
   ]
  },
  {
   "cell_type": "code",
   "execution_count": null,
   "metadata": {},
   "outputs": [
    {
     "data": {
      "text/plain": [
       "{'\\n\\n\\n\\n\\nACT IV',\n",
       " '\\n\\n                    ',\n",
       " '\\n    I am ',\n",
       " '\\n    Must ',\n",
       " '\\n    Than ',\n",
       " '\\n    That ',\n",
       " '\\n    This ',\n",
       " '\\n    Till ',\n",
       " '\\n    To give ',\n",
       " '\\n    We have ',\n",
       " '\\n    What ',\n",
       " '\\n    Which ',\n",
       " '\\n    displeasure',\n",
       " '\\n    of the ',\n",
       " '\\n    your ',\n",
       " '\\n  BERTRAM. ',\n",
       " '\\n  PAROLLES. ',\n",
       " '              ',\n",
       " '                                ',\n",
       " '      Exeun',\n",
       " \"  PAROLLES. O, let me live,\\n    And all the secrets of our camp I'll show,\\n    Their force, their purposes. Nay, I'll speak that\\n    Which you will wonder at.\\n  FIRST SOLDIER. But wilt thou faithfully?\\n  PAROLLES. If I do not, damn me.\\n  FIRST SOLDIER. Acordo linta.\\n    Come on; thou art granted space.\\n                   Exit, PAROLLES guarded. A short alarum within\\n  SECOND LORD. Go, tell the Count Rousillon and my brother\\n    We have caught the woodcock, and will keep him muffled\\n    Till we do hear from them.\\n  SECOND SOLDIER. Captain, I will.\\n  SECOND LORD. 'A will betray us all unto ourselves-\\n    Inform on that.\\n  SECOND SOLDIER. So I will, sir.\\n  SECOND LORD. Till then I'll keep him dark and safely lock'd.\\n                                                          Exeunt\\n\\n\\n\\n\\nACT IV. SCENE 2.\\nFlorence. The WIDOW'S house\\n\\nEnter BERTRAM and DIANA\\n\\n  BERTRAM. They told me that your name was Fontibell.\\n  DIANA. No, my good lord, Diana.\\n  BERTRAM. Titled goddess;\\n    And worth it, with addition! But, fair soul,\\n    In your fine frame hath love no quality?\\n    If the quick fire of youth light not your mind,\\n    You are no maiden, but a monument;\\n    When you are dead, you should be such a one\\n    As you are now, for you are cold and stern;\\n    And now you should be as your mother was\\n    When your sweet self was got.\\n  DIANA. She then was honest.\\n  BERTRAM. So should you be.\\n  DIANA. No.\\n    My mother did but duty; such, my lord,\\n    As you owe to your wife.\\n  BERTRAM. No more o'that!  \\n    I prithee do not strive against my vows.\\n    I was compell'd to her; but I love the\\n    By love's own sweet constraint, and will for ever\\n    Do thee all rights of service.\\n  DIANA. Ay, so you serve us\\n    Till we serve you; but when you have our roses\\n    You barely leave our thorns to prick ourselves,\\n    And mock us with our bareness.\\n  BERTRAM. How have I sworn!\\n  DIANA. 'Tis not the many oaths that makes the truth,\\n    But the plain single vow that is vow'd true.\\n    What is not holy, that we swear not by,\\n    But take the High'st to witness. Then, pray you, tell me:\\n    If I should swear by Jove's great attributes\\n    I lov'd you dearly, would you believe my oaths\\n    When I did love you ill? This has no holding,\\n    To swear by him whom I protest to love\\n    That I will work against him. Therefore your oaths\\n    Are words and poor conditions, but unseal'd-\\n    At least in my opinion.  \\n  BERTRAM. Change it, change it;\\n    Be not so holy-cruel. Love is holy;\\n    And my integrity ne'er knew the crafts\\n    That you do charge men with. Stand no more off,\\n    But give thyself unto my sick desires,\\n    Who then recovers. Say thou art mine, and ever\\n    My love as it begins shall so persever.\\n  DIANA. I see that men make ropes in such a scarre\\n    That we'll forsake ourselves. Give me that ring.\\n  BERTRAM. I'll lend it thee, my dear, but have no power\\n    To give it from me.\\n  DIANA. Will you not, my lord?\\n  BERTRAM. It is an honour 'longing to our house,\\n    Bequeathed down from many ancestors;\\n    Which were the greatest obloquy i' th' world\\n    In me to lose.\\n  DIANA. Mine honour's such a ring:\\n    My chastity's the jewel of our house,\\n    Bequeathed down from many ancestors;\\n    Which were the greatest obloquy i' th' world  \\n    In me to lose. Thus your own proper wisdom\\n    Brings in the champion Honour on my part\\n    Against your vain assault.\\n  BERTRAM. Here, take my ring;\\n    My house, mine honour, yea, my life, be thine,\\n    And I'll be bid by thee.\\n  DIANA. When midnight comes, knock at my chamber window;\\n    I'll order take my mother shall not hear.\\n    Now will I charge you in the band of truth,\\n    When you have conquer'd my yet maiden bed,\\n    Remain there but an hour, nor speak to me:\\n    My reasons are most strong; and you shall know them\\n    When back again this ring shall be deliver'd.\\n    And on your finger in the night I'll put\\n    Another ring, that what in time proceeds\\n    May token to the future our past deeds.\\n    Adieu till then; then fail not. You have won\\n    A wife of me, though there my hope be done.\\n  BERTRAM. A heaven on earth I have won by wooing thee.\\n Exit  \\n  DIANA. For which live long to thank both heaven and me!\\n    You may so in the end.\\n    My mother told me just how he would woo,\\n    As if she sat in's heart; she says all men\\n    Have the like oaths. He had sworn to marry me\\n    When his wife's dead; therefore I'll lie with him\\n    When I am buried. Since Frenchmen are so braid,\\n    Marry that will, I live and die a maid.\\n    Only, in this disguise, I think't no sin\\n    To cozen him that would unjustly win.                   Exit\\n\\n\\n\\n\\nACT IV. SCENE 3.\\nThe Florentine camp\\n\\nEnter the two FRENCH LORDS, and two or three SOLDIERS\\n\\n  SECOND LORD. You have not given him his mother's letter?\\n  FIRST LORD. I have deliv'red it an hour since. There is something\\n    in't that stings his nature; for on the reading it he chang'd\\n    almost into another man.\\n  SECOND LORD. He has much worthy blame laid upon him for shaking off\\n    so good a wife and so sweet a lady.\\n  FIRST LORD. Especially he hath incurred the everlasting displeasure\\n    of the King, who had even tun'd his bounty to sing happiness to\\n    him. I will tell you a thing, but you shall let it dwell darkly\\n    with you.\\n  SECOND LORD. When you have spoken it, 'tis dead, and I am the grave\\n    of it.\\n  FIRST LORD. He hath perverted a young gentlewoman here in Florence,\\n    of a most chaste renown; and this night he fleshes his will in\\n    the spoil of her honour. He hath given her his monumental ring,\\n    and thinks himself made in the unchaste composition.\\n  SECOND LORD. Now, God delay our rebellion! As we are ourselves,  \\n    what things are we!\\n  FIRST LORD. Merely our own traitors. And as in the common course of\\n    all treasons we still see them reveal themselves till they attain\\n    to their abhorr'd ends; so he that in this action contrives\\n    against his own nobility, in his proper stream, o'erflows\\n    himself.\\n  SECOND LORD. Is it not meant damnable in us to be trumpeters of our\\n    unlawful intents? We shall not then have his company to-night?\\n  FIRST LORD. Not till after midnight; for he is dieted to his hour.\\n  SECOND LORD. That approaches apace. I would gladly have him see his\\n    company anatomiz'd, that he might take a measure of his own\\n    judgments, wherein so curiously he had set this counterfeit.\\n  FIRST LORD. We will not meddle with him till he come; for his\\n    presence must be the whip of the other.\\n  SECOND LORD. In the meantime, what hear you of these wars?\\n  FIRST LORD. I hear there is an overture of peace.\\n  SECOND LORD. Nay, I assure you, a peace concluded.\\n  FIRST LORD. What will Count Rousillon do then? Will he travel\\n    higher, or return again into France?\\n  SECOND LORD. I perceive, by this demand, you are not altogether  \\n    of his counsel.\\n  FIRST LORD. Let it be forbid, sir! So should I be a great deal\\n    of his act.\\n  SECOND LORD. Sir, his wife, some two months since, fled from his\\n    house. Her pretence is a pilgrimage to Saint Jaques le Grand;\\n    which holy undertaking with most austere sanctimony she\\n    accomplish'd; and, there residing, the tenderness of her nature\\n    became as a prey to her grief; in fine, made a groan of her last\\n    breath, and now she sings in heaven.\\n  FIRST LORD. How is this justified?\\n  SECOND LORD. The stronger part of it by her own letters, which\\n    makes her story true even to the point of her death. Her death\\n    itself, which could not be her office to say is come, was\\n    faithfully confirm'd by the rector of the place.\\n  FIRST LORD. Hath the Count all this intelligence?\\n  SECOND LORD. Ay, and the particular confirmations, point from\\n    point, to the full arming of the verity.\\n  FIRST LORD. I am heartily sorry that he'll be glad of this.\\n  SECOND LORD. How mightily sometimes we make us comforts of our\\n    losses!  \\n  FIRST LORD. And how mightily some other times we drown our gain in\\n    tears! The great dignity that his valour hath here acquir'd for\\n    him shall at home be encount'red with a shame as ample.\\n  SECOND LORD. The web of our life is of a mingled yarn, good and ill\\n    together. Our virtues would be proud if our faults whipt them\\n    not; and our crimes would despair if they were not cherish'd by\\n    our virtues.\\n\\n                      Enter a MESSENGER\\n\\n    How now? Where's your master?\\n  SERVANT. He met the Duke in the street, sir; of whom he hath taken\\n    a solemn leave. His lordship will next morning for France. The\\n    Duke hath offered him letters of commendations to the King.\\n  SECOND LORD. They shall be no more than needful there, if they were\\n    more than they can commend.\\n  FIRST LORD. They cannot be too sweet for the King's tartness.\\n    Here's his lordship now.\\n\\n                        Enter BERTRAM  \\n\\n    How now, my lord, is't not after midnight?\\n  BERTRAM. I have to-night dispatch'd sixteen businesses, a month's\\n    length apiece; by an abstract of success: I have congied with the\\n    Duke, done my adieu with his nearest; buried a wife, mourn'd for\\n    her; writ to my lady mother I am returning; entertain'd my\\n    convoy; and between these main parcels of dispatch effected many\\n    nicer needs. The last was the greatest, but that I have not ended\\n    yet.\\n  SECOND LORD. If the business be of any difficulty and this morning\\n    your departure hence, it requires haste of your lordship.\\n  BERTRAM. I mean the business is not ended, as fearing to hear of it\\n    hereafter. But shall we have this dialogue between the Fool and\\n    the Soldier? Come, bring forth this counterfeit module has\\n    deceiv'd me like a double-meaning prophesier.\\n  SECOND LORD. Bring him forth.  [Exeunt SOLDIERS]  Has sat i' th'\\n    stocks all night, poor gallant knave.\\n  BERTRAM. No matter; his heels have deserv'd it, in usurping his\\n    spurs so long. How does he carry himself?\\n  SECOND LORD. I have told your lordship already the stocks carry  \\n    him. But to answer you as you would be understood: he weeps like\\n    a wench that had shed her milk; he hath confess'd himself to\\n    Morgan, whom he supposes to be a friar, from the time of his\\n    remembrance to this very instant disaster of his setting i' th'\\n    stocks. And what think you he hath confess'd?\\n  BERTRAM. Nothing of me, has 'a?\\n  SECOND LORD. His confession is taken, and it shall be read to his\\n    face; if your lordship be in't, as I believe you are, you must\\n    have the patience to hear it.\\n\\n                   Enter PAROLLES guarded, and\\n                  FIRST SOLDIER as interpreter\\n\\n  BERTRAM. A plague upon him! muffled! He can say nothing of me.\\n  SECOND LORD. Hush, hush! Hoodman comes. Portotartarossa.\\n  FIRST SOLDIER. He calls for the tortures. What will you say without\\n    'em?\\n  PAROLLES. I will confess what I know without constraint; if ye\\n    pinch me like a pasty, I can say no more.\\n  FIRST SOLDIER. Bosko chimurcho.  \\n  SECOND LORD. Boblibindo chicurmurco.\\n  FIRST SOLDIER. YOU are a merciful general. Our General bids you\\n    answer to what I shall ask you out of a note.\\n  PAROLLES. And truly, as I hope to live.\\n  FIRST SOLDIER. 'First demand of him how many horse the Duke is\\n    strong.' What say you to that?\\n  PAROLLES. Five or six thousand; but very weak and unserviceable.\\n    The troops are all scattered, and the commanders very poor\\n    rogues, upon my reputation and credit, and as I hope to live.\\n  FIRST SOLDIER. Shall I set down your answer so?\\n  PAROLLES. Do; I'll take the sacrament on 't, how and which way you\\n    will.\\n  BERTRAM. All's one to him. What a past-saving slave is this!\\n  SECOND LORD. Y'are deceiv'd, my lord; this is Monsieur Parolles,\\n    the gallant militarist-that was his own phrase-that had the whole\\n    theoric of war in the knot of his scarf, and the practi\",\n",
       " ' they are ',\n",
       " ' this.\\n  BERTRAM. ',\n",
       " ' thousand ',\n",
       " '!\\n  FIRST SOLDIER',\n",
       " ',\\n    And ',\n",
       " ',\\n    But ',\n",
       " ',\\n    Dear ',\n",
       " ',\\n    Hath ',\n",
       " ',\\n    Not ',\n",
       " ',\\n    Since ',\n",
       " ',\\n    That ',\n",
       " ',\\n    The ',\n",
       " ',\\n    Was ',\n",
       " ',\\n    When ',\n",
       " ',\\n    Which ',\n",
       " ',\\n    Who ',\n",
       " ',\\n    Whose ',\n",
       " ',\\n    You ',\n",
       " ',\\n    and ',\n",
       " ',\\n    the ',\n",
       " ', I pray you',\n",
       " ', and bring ',\n",
       " ', and now ',\n",
       " ', and take ',\n",
       " ', and that ',\n",
       " ', and the ',\n",
       " ', my good lord, ',\n",
       " ', my liege',\n",
       " ', my lord, ',\n",
       " ', sir, if ',\n",
       " ', sir, in ',\n",
       " ', sir, that ',\n",
       " ', so many; ',\n",
       " '.\\n\\n                    ',\n",
       " '.\\n\\n                      ',\n",
       " '.\\n\\n                        ',\n",
       " '.\\n\\n                      Enter a ',\n",
       " '.\\n                                    ',\n",
       " '.\\n                                          ',\n",
       " '.\\n                                            ',\n",
       " '.\\n                                                          Exeun',\n",
       " '.\\n                                          [',\n",
       " '.\\n    And ',\n",
       " \".\\n    I'll \",\n",
       " '.\\n    The ',\n",
       " '.\\n  BERTRAM',\n",
       " '.\\n  BERTRAM. ',\n",
       " '.\\n  BERTRAM. A ',\n",
       " '.\\n  BERTRAM. H',\n",
       " '.\\n  BERTRAM. I ',\n",
       " '.\\n  CLOWN. F',\n",
       " '.\\n  CLOWN. Indeed',\n",
       " '.\\n  COUNTESS',\n",
       " '.\\n  DIANA. I ',\n",
       " '.\\n  FIRST LORD. I ',\n",
       " '.\\n  FIRST SOLDIER',\n",
       " '.\\n  FIRST SOLDIER. ',\n",
       " \".\\n  FIRST SOLDIER. '\",\n",
       " \".\\n  FIRST SOLDIER. Well, that's set down\",\n",
       " '.\\n  FIRST SOLDIER. What ',\n",
       " '.\\n  GENTLEMAN',\n",
       " '.\\n  HELENA',\n",
       " '.\\n  KING. ',\n",
       " '.\\n  KING. T',\n",
       " '.\\n  KING. The ',\n",
       " '.\\n  KING. What ',\n",
       " '.\\n  LAFEU. ',\n",
       " '.\\n  LAFEU. I ',\n",
       " '.\\n  LAFEU. You beg ',\n",
       " '.\\n  PAROLLES',\n",
       " '.\\n  PAROLLES. ',\n",
       " \".\\n  PAROLLES. '\",\n",
       " '.\\n  PAROLLES. I ',\n",
       " '.\\n  PAROLLES. My ',\n",
       " '.\\n  SECOND ',\n",
       " '.\\n  SECOND LORD. ',\n",
       " '.\\n  SECOND LORD. H',\n",
       " '.\\n  SECOND LORD. He ',\n",
       " '.\\nRousillon. The ',\n",
       " \".\\nRousillon. The COUNT'S palace\",\n",
       " '.  \\n  BERTRAM. ',\n",
       " '.  \\n  FIRST SOLDIER',\n",
       " '.  \\n  HELENA',\n",
       " '.  \\n  SECOND LORD. ',\n",
       " '.                ',\n",
       " '.                                ',\n",
       " '.                                        ',\n",
       " '. He will ',\n",
       " '. His Highness ',\n",
       " '. How does your ',\n",
       " '. I would ',\n",
       " '. Prithee, ',\n",
       " '. Shall I ',\n",
       " '. Sir, for ',\n",
       " '. There is ',\n",
       " '. We must ',\n",
       " \". Well, that's set down\",\n",
       " ';\\n    And ',\n",
       " ';\\n    For ',\n",
       " ';\\n    The ',\n",
       " ';\\n    Which ',\n",
       " ';  \\n    And ',\n",
       " ';  \\n    Our ',\n",
       " '; and she ',\n",
       " '; but when ',\n",
       " '; thou art ',\n",
       " '; we shall ',\n",
       " '?\\n  BERTRAM. ',\n",
       " \"?\\n  BERTRAM. She's \",\n",
       " '?\\n  FIRST LORD. ',\n",
       " '?\\n  FIRST SOLDIER',\n",
       " '?\\n  GENTLEMAN',\n",
       " '?\\n  PAROLLES',\n",
       " '?\\n  PAROLLES. ',\n",
       " '?\\n  PAROLLES. I ',\n",
       " '?\\n  SECOND LORD. ',\n",
       " 'ATTENDANTS',\n",
       " 'ATTENDANTS\\n\\n  ',\n",
       " 'Ay, and the ',\n",
       " 'BERTRAM and ',\n",
       " \"COUNT'S palace\",\n",
       " 'COUNTESS, LAFEU',\n",
       " 'Captain Du',\n",
       " 'Captain Dumain',\n",
       " 'Count Rousillon',\n",
       " 'Count Rousillon ',\n",
       " \"Count's a fool\",\n",
       " 'DISTRIBUTED ',\n",
       " 'Demand of him ',\n",
       " 'ELECTRONIC ',\n",
       " 'Enter BERTRAM',\n",
       " 'FIRST SOLDIER',\n",
       " 'Five or six',\n",
       " 'Florentine',\n",
       " \"Fortune's \",\n",
       " 'HELENA, WIDOW, and ',\n",
       " 'HELENA. That ',\n",
       " 'I have not ',\n",
       " 'I have seen ',\n",
       " 'Marseilles, ',\n",
       " \"Nay, I'll \",\n",
       " 'PAROLLES. ',\n",
       " \"WIDOW'S house\\n\\nEnter \",\n",
       " 'a cardecue ',\n",
       " 'a great dea',\n",
       " 'aith, sir, ',\n",
       " 'an honest man ',\n",
       " \"are deceiv'd, my lord\",\n",
       " 'atch of velve',\n",
       " 'beseech you, ',\n",
       " 'beseech your ',\n",
       " 'bring forth this ',\n",
       " 'can serve ',\n",
       " 'cannot be ',\n",
       " 'corrupt him ',\n",
       " 'could not ',\n",
       " 'd.\\n  FIRST LORD. ',\n",
       " 'daughter; ',\n",
       " 'displeasur',\n",
       " 'displeasure ',\n",
       " 'e.\\n  LAFEU',\n",
       " 'for France',\n",
       " 'gave it to ',\n",
       " 'give away ',\n",
       " 'good lord, ',\n",
       " 'he thinks ',\n",
       " 'her finger',\n",
       " 'her wear it',\n",
       " 'him hither',\n",
       " 'his Majest',\n",
       " 'his mother',\n",
       " 'his service',\n",
       " \"i' th'\\n    stock\",\n",
       " 'i, two hundred fifty each; ',\n",
       " 'in Florence',\n",
       " 'in the behal',\n",
       " 'is a good ',\n",
       " 'is not the ',\n",
       " 'it.\\n  KING',\n",
       " 'lascivious ',\n",
       " 'last night',\n",
       " 'me\\n    That ',\n",
       " 'mine honour',\n",
       " 'mine;\\n    You give away ',\n",
       " 'mine; and ',\n",
       " 'my Lord Lafeu',\n",
       " 'noble Captain.\\n  FIRST LORD. ',\n",
       " 'not\\n    a ',\n",
       " 'not\\n    to ',\n",
       " 'now, sir, ',\n",
       " \"of Fortune's \",\n",
       " 'of his\\n    ',\n",
       " 'particular ',\n",
       " \"rapp'd in \",\n",
       " 'remembrance ',\n",
       " 'reputation ',\n",
       " 'reputation with the Duke',\n",
       " 's\\n    That ',\n",
       " 's\\n    Upon ',\n",
       " 's are forfe',\n",
       " 's.\\n  CLOWN',\n",
       " 'say you to that?\\n  PAROLLES. ',\n",
       " 'secrets of ',\n",
       " 'self, which ',\n",
       " 'shall we have ',\n",
       " 't\\n\\n\\n\\n\\nACT IV',\n",
       " 't\\n\\n\\n\\n\\nACT V SCENE ',\n",
       " 'the first ',\n",
       " 'themselves ',\n",
       " 'therefore, ',\n",
       " 'thing\\n    ',\n",
       " 'thing, but ',\n",
       " 'to the King',\n",
       " 'two FRENCH LORDS',\n",
       " 'upon him! ',\n",
       " 'upon your ',\n",
       " 'wear your ',\n",
       " 'will be here ',\n",
       " 'with the Duk',\n",
       " 'with the Duke',\n",
       " 'woman here ',\n",
       " 'would have ',\n",
       " 'y.\\n  COUNTESS',\n",
       " 'you are not ',\n",
       " 'you in the ',\n",
       " 'you must die',\n",
       " 'you shall ',\n",
       " 'you.\\n  HELENA',\n",
       " 'your master'}"
      ]
     },
     "execution_count": 147,
     "metadata": {},
     "output_type": "execute_result"
    }
   ],
   "source": [
    "set([t for t in tokens if len(t) >= 10])"
   ]
  },
  {
   "cell_type": "code",
   "execution_count": null,
   "metadata": {},
   "outputs": [
    {
     "name": "stdout",
     "output_type": "stream",
     "text": [
      "--Return--\n",
      "> <ipython-input-73-5c998fd87cb8>(4)key()->None\n",
      "-> pdb.set_trace()\n"
     ]
    },
    {
     "name": "stdin",
     "output_type": "stream",
     "text": [
      "(Pdb)  k\n"
     ]
    },
    {
     "name": "stdout",
     "output_type": "stream",
     "text": [
      "('  ', [0, 28, 29, 30, 75, 76, 77, 129, 130, 131, 159, 202, 236, 267, 268, 269, 304, 305, 306, 307, 308, 309, 310, 311, 312, 313, 314, 315, 316, 317, 318, 319, 320, 321, 369, 428, 429, 430, 487, 488, 489, 518, 553, 606, 607, 608, 626, 660, 723, 724, 725, 726, 727, 728, 729, 730, 731, 732, 733, 734, 735, 736, 737, 738, 739, 740, 741, 742, 743, 744, 745, 746, 747, 748, 749, 750, 751, 752, 753, 754, 755, 756, 757, 758, 759, 760, 761, 762, 763, 764, 765, 766, 767, 768, 769, 770, 771, 772, 773, 774, 775, 776, 777, 778, 779, 863, 917, 951, 978, 979, 980, 1027, 1028, 1029, 1072, 1073, 1074, 1124, 1125, 1126, 1163, 1164, 1165, 1211, 1212, 1213, 1259, 1260, 1261, 1304, 1305, 1306, 1338, 1368, 1397, 1410, 1411, 1412, 1453, 1454, 1455, 1482, 1508, 1511, 1512, 1513, 1556, 1557, 1558, 1599, 1600, 1601, 1653, 1654, 1655, 1688, 1717, 1718, 1719, 1768, 1769, 1770, 1820, 1821, 1822, 1855, 1884, 1939, 1940, 1941, 1988, 1989, 1990, 2032, 2033, 2034, 2094, 2095, 2096, 2143, 2144, 2145, 2194, 2195, 2196, 2244, 2245, 2246, 2287, 2288, 2289, 2342, 2343, 2344, 2391, 2392, 2393, 2418, 2421, 2454, 2455, 2456, 2494, 2495, 2496, 2537, 2538, 2539, 2589, 2590, 2591, 2632, 2633, 2634, 2683, 2684, 2685, 2727, 2779, 2780, 2781, 2832, 2889, 2890, 2891, 2913, 2945, 2995, 2996, 2997, 3036, 3037, 3038, 3085, 3086, 3087, 3104, 3140, 3141, 3142, 3182, 3183, 3184, 3223, 3224, 3225, 3271, 3274, 3275, 3276, 3321, 3322, 3323, 3366, 3367, 3368, 3397, 3428, 3429, 3430, 3479, 3480, 3481, 3508, 3566, 3567, 3568, 3612, 3613, 3614, 3660, 3661, 3662, 3707, 3708, 3709, 3754, 3755, 3756, 3810, 3811, 3812, 3860, 3861, 3862, 3905, 3906, 3907, 3950, 3951, 3952, 3994, 3995, 3996, 4043, 4044, 4045, 4091, 4152, 4155, 4213, 4214, 4215, 4240, 4241, 4242, 4285, 4286, 4287, 4332, 4333, 4334, 4382, 4383, 4384, 4436, 4437, 4438, 4488, 4489, 4490, 4532, 4533, 4534, 4577, 4578, 4579, 4618, 4619, 4620, 4621, 4622, 4623, 4624, 4625, 4626, 4627, 4628, 4629, 4630, 4631, 4632, 4633, 4634, 4635, 4739, 4798, 4866, 4867, 4868, 4932, 4933, 4934, 4961, 5031, 5032, 5033, 5071, 5141, 5142, 5143, 5209, 5210, 5211, 5277, 5278, 5279, 5291, 5361, 5362, 5363, 5372, 5442, 5443, 5444, 5509, 5510, 5511, 5577, 5578, 5579, 5634, 5699, 5702, 5703, 5704, 5726, 5796, 5797, 5798, 5866, 5867, 5868, 5930, 5931, 5932, 5992, 5993, 5994, 6005, 6075, 6076, 6077, 6142, 6211, 6281, 6282, 6283, 6345, 6346, 6347, 6410, 6474, 6475, 6476, 6518, 6579, 6631, 6684, 6748, 6749, 6750, 6789, 6854, 6857, 6858, 6859, 6877, 6942, 6943, 6944, 6958, 7025, 7026, 7027, 7091, 7092, 7093, 7151, 7152, 7153, 7219, 7220, 7221, 7288, 7289, 7290, 7329, 7366, 7431, 7432, 7433, 7498, 7499, 7500, 7560, 7561, 7562, 7613, 7665, 7729, 7730, 7731, 7774, 7836, 7901, 7902, 7903, 7912, 7915, 7984, 7985, 7986, 8052, 8053, 8054, 8112, 8182, 8183, 8184, 8248, 8249, 8250, 8316, 8317, 8318, 8334, 8335, 8336, 8337, 8338, 8339, 8340, 8341, 8342, 8343, 8344, 8345, 8346, 8347, 8348, 8349, 8350, 8351, 8352, 8353, 8354, 8375, 8376, 8377, 8409, 8478, 8479, 8480, 8545, 8546, 8547, 8609, 8679, 8680, 8681, 8711, 8775, 8776, 8777, 8805, 8806, 8807, 8808, 8809, 8810, 8811, 8812, 8813, 8814, 8815, 8816, 8817, 8818, 8819, 8820, 8821, 8822, 8823, 8824, 8825, 8826, 8827, 8842, 8846, 8847, 8848, 8893, 8961, 8962, 8963, 9031, 9032, 9033, 9100, 9101, 9102, 9163, 9164, 9165, 9232, 9233, 9234, 9302, 9303, 9304, 9311, 9380, 9381, 9382, 9442, 9512, 9513, 9514, 9580, 9581, 9582, 9643, 9644, 9645, 9693, 9724, 9743, 9760, 9761, 9762, 9802, 9868, 9869, 9870, 9914, 9979, 9982, 9983, 9984, 10051, 10052, 10053, 10116, 10117, 10118, 10181, 10182, 10183, 10249, 10250, 10251, 10299, 10333, 10401, 10402, 10403, 10468, 10469, 10470, 10503, 10504, 10505, 10506, 10507, 10508, 10509, 10510, 10511, 10512, 10513, 10514, 10515, 10516, 10517, 10518, 10519, 10520, 10550, 10551, 10552, 10553, 10554, 10555, 10556, 10557, 10558, 10559, 10560, 10561, 10562, 10563, 10564, 10565, 10566, 10598, 10663, 10722, 10792, 10793, 10794, 10801, 10866, 10867, 10868, 10912, 10945, 10948, 10987, 11053, 11054, 11055, 11103, 11145, 11210, 11211, 11212, 11245, 11312, 11313, 11314, 11375, 11376, 11377, 11441, 11491, 11560, 11561, 11562, 11570, 11633, 11700, 11701, 11702, 11770, 11771, 11772, 11839, 11840, 11841, 11864, 11931, 11932, 11933, 11999, 12000, 12001, 12018, 12021, 12061, 12130, 12131, 12132, 12179, 12228, 12299, 12341, 12381, 12451, 12452, 12453, 12472, 12539, 12540, 12541, 12565, 12634, 12635, 12636, 12695, 12696, 12697, 12765, 12766, 12767, 12831, 12832, 12833, 12899, 12900, 12901, 12969, 12970, 12971, 13036, 13037, 13038, 13099, 13100, 13101, 13110, 13113, 13151, 13217, 13218, 13219, 13270, 13335, 13336, 13337, 13404, 13405, 13406, 13474, 13475, 13476, 13535, 13536, 13537, 13605, 13606, 13607, 13646, 13712, 13713, 13714, 13752, 13802, 13869, 13870, 13871, 13937, 13938, 13939, 13983, 14049, 14050, 14051, 14101, 14166, 14167, 14168, 14176, 14224, 14227, 14290, 14291, 14292, 14309, 14364, 14430, 14431, 14432, 14499, 14500, 14501, 14543, 14581, 14650, 14651, 14652, 14711, 14779, 14824, 14865, 14893, 14909, 14918, 14959, 14960, 14961, 14970, 15029, 15030, 15031, 15096, 15097, 15098, 15162, 15163, 15164, 15229, 15230, 15231, 15239, 15242, 15299, 15369, 15370, 15371, 15435, 15436, 15437, 15503, 15504, 15505, 15525, 15563, 15579, 15580, 15581, 15582, 15583, 15584, 15585, 15586, 15587, 15588, 15589, 15590, 15591, 15592, 15593, 15594, 15595, 15596, 15597, 15598, 15599, 15600, 15601, 15602, 15603, 15604, 15605, 15606, 15607, 15608, 15609, 15610, 15611, 15612, 15613, 15614, 15615, 15616, 15617, 15618, 15628, 15629, 15630, 15687, 15688, 15689, 15733, 15734, 15735, 15791, 15792, 15793, 15838, 15839, 15840, 15883, 15884, 15885, 15931, 15932, 15933, 15985, 15986, 15987, 16035, 16036, 16037, 16080, 16081, 16082, 16083, 16084, 16085, 16086, 16087, 16088, 16089, 16090, 16091, 16092, 16093, 16094, 16095, 16096, 16097, 16098, 16099, 16100, 16101, 16102, 16103, 16104, 16105, 16106, 16107, 16108, 16109, 16110, 16111, 16112, 16113, 16114, 16115, 16116, 16117, 16118, 16119, 16120, 16121, 16122, 16123, 16124, 16125, 16126, 16127, 16128, 16129, 16142, 16209, 16210, 16211, 16223, 16283, 16286, 16287, 16288, 16328, 16396, 16397, 16398, 16411, 16480, 16481, 16482, 16502, 16570, 16571, 16572, 16631, 16632, 16633, 16695, 16696, 16697, 16735, 16803, 16804, 16805, 16873, 16874, 16875, 16938, 16939, 16940, 16951, 17019, 17020, 17021, 17088, 17089, 17090, 17158, 17159, 17160, 17228, 17229, 17230, 17296, 17297, 17298, 17363, 17364, 17365, 17429, 17432, 17433, 17434, 17499, 17500, 17501, 17565, 17566, 17567, 17590, 17635, 17705, 17706, 17707, 17739, 17795, 17855, 17856, 17857, 17923, 17924, 17925, 17990, 17991, 17992, 18055, 18056, 18057, 18121, 18122, 18123, 18148, 18217, 18218, 18219, 18234, 18277, 18345, 18346, 18347, 18396, 18463, 18464, 18465, 18528, 18531, 18532, 18533, 18593, 18656, 18697, 18725, 18794, 18795, 18796, 18858, 18859, 18860, 18926, 18927, 18928, 18994, 18995, 18996, 19029, 19098, 19099, 19100, 19118, 19181, 19242, 19243, 19244, 19256, 19267, 19276, 19324, 19325, 19326, 19392, 19393, 19394, 19462, 19463, 19464, 19524, 19584, 19585, 19586, 19649, 19652, 19653, 19654, 19719, 19720, 19721, 19789, 19790, 19791, 19841, 19903, 19968, 19969, 19970, 19980, 19998, 20038, 20077, 20124, 20168, 20237, 20238, 20239, 20253, 20320, 20321, 20322, 20390, 20391, 20392, 20449, 20450, 20451, 20452, 20453, 20454, 20455, 20456, 20457, 20458, 20459, 20460, 20461, 20462, 20463, 20464, 20465, 20466, 20467, 20468, 20469, 20470, 20471, 20472, 20473, 20474, 20475, 20476, 20477, 20478, 20479, 20480, 20481, 20482, 20483, 20484, 20485, 20486, 20487, 20514, 20581, 20582, 20583, 20607, 20654, 20724, 20725, 20726, 20788, 20791, 20792, 20793, 20861, 20862, 20863, 20875, 20876, 20877, 20878, 20879, 20880, 20881, 20882, 20883, 20884, 20885, 20886, 20887, 20888, 20889, 20890, 20891, 20892, 20893, 20894, 20895, 20896, 20897, 20898, 20899, 20900, 20901, 20902, 20903, 20904, 20905, 20926, 20981, 20982, 20983, 21033, 21034, 21035, 21082, 21083, 21084, 21126, 21127, 21128, 21180, 21181, 21182, 21228, 21229, 21230, 21275, 21276, 21277, 21327, 21328, 21329, 21381, 21382, 21383, 21430, 21431, 21432, 21450, 21451, 21452, 21453, 21454, 21455, 21456, 21457, 21458, 21459, 21460, 21461, 21462, 21463, 21464, 21465, 21466, 21467, 21468, 21469, 21470, 21471, 21472, 21473, 21474, 21475, 21476, 21477, 21478, 21479, 21480, 21481, 21482, 21483, 21484, 21485, 21486, 21487, 21488, 21566, 21627, 21628, 21629, 21674, 21675, 21676, 21730, 21731, 21732, 21776, 21777, 21778, 21817, 21818, 21819, 21862, 21863, 21864, 21914, 21915, 21916, 21958, 21959, 21960, 22005, 22006, 22007, 22050, 22051, 22052, 22093, 22094, 22095, 22145, 22146, 22147, 22192, 22193, 22194, 22225, 22248, 22249, 22250, 22291, 22292, 22293, 22326, 22329, 22358, 22359, 22360, 22409, 22410, 22411, 22459, 22460, 22461, 22511, 22512, 22513, 22552, 22553, 22554, 22601, 22602, 22603, 22653, 22654, 22655, 22701, 22702, 22703, 22749, 22750, 22751, 22799, 22800, 22801, 22843, 22844, 22845, 22890, 22891, 22892, 22918, 22949, 22950, 22951, 22990, 22991, 22992, 23020, 23047, 23048, 23049, 23100, 23101, 23102, 23152, 23153, 23154, 23195, 23198, 23199, 23200, 23247, 23248, 23249, 23306, 23307, 23308, 23353, 23354, 23355, 23356, 23357, 23358, 23359, 23360, 23361, 23362, 23456, 23520, 23521, 23522, 23588, 23589, 23590, 23657, 23658, 23659, 23722, 23723, 23724, 23790, 23791, 23792, 23798, 23868, 23869, 23870, 23938, 23939, 23940, 24008, 24009, 24010, 24066, 24136, 24137, 24138, 24183, 24251, 24252, 24253, 24282, 24350, 24419, 24420, 24421, 24429, 24432, 24494, 24562, 24589, 24653, 24706, 24776, 24842, 24868, 24889, 24954, 24955, 24956, 24977, 25011, 25080, 25081, 25082, 25113, 25143, 25213, 25214, 25215, 25228, 25298, 25299, 25300, 25357, 25426, 25429, 25430, 25431, 25497, 25498, 25499, 25567, 25568, 25569, 25633, 25634, 25635, 25700, 25701, 25702, 25766, 25767, 25768, 25831, 25899, 25900, 25901, 25967, 25968, 25969, 26024, 26089, 26090, 26091, 26155, 26196, 26255, 26263, 26264, 26265, 26332, 26333, 26334, 26400, 26401, 26402, 26419, 26485, 26486, 26487, 26551, 26552, 26553, 26619, 26622, 26623, 26624, 26688, 26689, 26690, 26754, 26755, 26756, 26821, 26822, 26823, 26891, 26892, 26893, 26948, 27015, 27016, 27017, 27029, 27098, 27099, 27100, 27162, 27163, 27164, 27228, 27294, 27295, 27296, 27364, 27365, 27366, 27424, 27491, 27492, 27493, 27505, 27563, 27630, 27631, 27632, 27654, 27655, 27656, 27657, 27658, 27659, 27660, 27661, 27662, 27663, 27664, 27665, 27666, 27667, 27668, 27669, 27670, 27671, 27672, 27673, 27674, 27675, 27676, 27677, 27693, 27697, 27764, 27765, 27766, 27830, 27831, 27832, 27896, 27897, 27898, 27964, 28028, 28029, 28030, 28059, 28101, 28146, 28147, 28148, 28195, 28264, 28265, 28266, 28334, 28335, 28336, 28337, 28338, 28339, 28340, 28341, 28342, 28343, 28344, 28345, 28346, 28347, 28348, 28349, 28350, 28351, 28352, 28353, 28354, 28355, 28356, 28357, 28358, 28359, 28360, 28361, 28362, 28363, 28364, 28365, 28366, 28367, 28368, 28369, 28370, 28371, 28372, 28373, 28374, 28375, 28376, 28377, 28378, 28379, 28380, 28381, 28382, 28383, 28384, 28385, 28386, 28387, 28388, 28389, 28390, 28611, 28789, 28997, 29048, 29049, 29050, 29099, 29100, 29101, 29155, 29156, 29157, 29200, 29201, 29202, 29242, 29243, 29244, 29274, 29275, 29276, 29277, 29278, 29279, 29280, 29281, 29282, 29283, 29284, 29285, 29286, 29287, 29288, 29289, 29290, 29291, 29292, 29293, 29294, 29315, 29316, 29317, 29334, 29335, 29336, 29381, 29382, 29383, 29433, 29455, 29510, 29552, 29605, 29606, 29607, 29654, 29657, 29658, 29659, 29710, 29711, 29712, 29754, 29755, 29756, 29801, 29802, 29803, 29832, 29863, 29897, 29898, 29899, 29941, 29942, 29943, 29990, 29991, 29992, 30021, 30055, 30080, 30105, 30106, 30107, 30158, 30159, 30160, 30179, 30217, 30258, 30259, 30260, 30307, 30308, 30309, 30349, 30397, 30398, 30399, 30420, 30423, 30456, 30457, 30458, 30506, 30507, 30508, 30550, 30551, 30552, 30597, 30598, 30599, 30646, 30647, 30648, 30693, 30694, 30695, 30727, 30762, 30820, 30821, 30822, 30869, 30870, 30871, 30889, 30890, 30891, 30892, 30893, 30894, 30895, 30896, 30897, 30898, 30899, 30900, 30901, 30902, 30903, 30904, 30905, 30906, 30907, 30908, 30909, 30910, 30911, 30912, 30913, 30914, 30915, 30916, 30917, 30918, 30919, 30920, 30921, 30922, 30923, 30924, 30925, 31029, 31098, 31099, 31100, 31164, 31165, 31166, 31232, 31233, 31234, 31292, 31293, 31294, 31309, 31376, 31377, 31378, 31443, 31444, 31445, 31496, 31565, 31566, 31567, 31581, 31651, 31652, 31653, 31710, 31760, 31829, 31830, 31831, 31885, 31886, 31887, 31888, 31889, 31890, 31891, 31892, 31893, 31894, 31895, 31896, 31897, 31898, 31899, 31900, 31901, 31902, 31903, 31904, 31905, 31906, 31907, 31908, 31909, 31910, 31923, 31927, 31928, 31929, 31993, 31994, 31995, 32058, 32059, 32060, 32126, 32127, 32128, 32190, 32191, 32192, 32253, 32254, 32255, 32321, 32390, 32459, 32460, 32461, 32527, 32528, 32529, 32595, 32596, 32597, 32661, 32662, 32663, 32726, 32727, 32728, 32746, 32808, 32878, 32879, 32880, 32888, 32936, 33002, 33005, 33006, 33007, 33035, 33097, 33159, 33227, 33228, 33229, 33253, 33323, 33324, 33325, 33389, 33390, 33391, 33415, 33416, 33417, 33435, 33458, 33459, 33460, 33524, 33525, 33526, 33591, 33592, 33593, 33621, 33654, 33655, 33656, 33657, 33658, 33659, 33660, 33661, 33662, 33663, 33664, 33665, 33666, 33667, 33668, 33669, 33670, 33671, 33672, 33673, 33674, 33675, 33676, 33677, 33814, 33861, 33862, 33863, 33907, 33908, 33909, 33953, 33954, 33955, 33978, 34011, 34012, 34013, 34053, 34054, 34055, 34104, 34105, 34106, 34158, 34159, 34160, 34189, 34215, 34216, 34217, 34254, 34255, 34256, 34301, 34302, 34303, 34336, 34362, 34363, 34364, 34409, 34410, 34411, 34458, 34461, 34462, 34463, 34504, 34505, 34506, 34550, 34551, 34552, 34591, 34592, 34593, 34647, 34648, 34649, 34702, 34703, 34704, 34730, 34760, 34761, 34762, 34815, 34816, 34817, 34868, 34869, 34870, 34916, 34917, 34918, 34961, 34962, 34963, 35001, 35002, 35003, 35051, 35052, 35053, 35095, 35096, 35097, 35127, 35158, 35159, 35160, 35161, 35162, 35163, 35164, 35165, 35166, 35167, 35168, 35169, 35170, 35171, 35172, 35173, 35190, 35245, 35302, 35361, 35362, 35363, 35392, 35396, 35397, 35398, 35399, 35400, 35401, 35402, 35403, 35404, 35405, 35406, 35407, 35408, 35409, 35410, 35411, 35412, 35413, 35414, 35415, 35416, 35417, 35418, 35419, 35420, 35437, 35467, 35501, 35502, 35503, 35546, 35547, 35548, 35592, 35593, 35594, 35645, 35646, 35647, 35673, 35709, 35710, 35711, 35743, 35765, 35766, 35767, 35809, 35810, 35811, 35856, 35857, 35858, 35904, 35905, 35906, 35949, 35950, 35951, 35997, 35998, 35999, 36028, 36070, 36071, 36072, 36114, 36117, 36118, 36119, 36162, 36163, 36164, 36209, 36210, 36211, 36260, 36261, 36262, 36309, 36310, 36311, 36359, 36360, 36361, 36402, 36403, 36404, 36447, 36448, 36449, 36499, 36500, 36501, 36550, 36551, 36552, 36583, 36605, 36606, 36607, 36660, 36661, 36662, 36716, 36717, 36718, 36761, 36762, 36763, 36807, 36808, 36809, 36861, 36862, 36863, 36911, 36912, 36913, 36959, 36960, 36961, 37006, 37007, 37008, 37057, 37060, 37061, 37062, 37110, 37111, 37112, 37160, 37161, 37162, 37213, 37214, 37215, 37265, 37266, 37267, 37316, 37317, 37318, 37362, 37425, 37426, 37427, 37472, 37522, 37523, 37524, 37568, 37569, 37570, 37614, 37615, 37616, 37645, 37646, 37647, 37648, 37649, 37650, 37651, 37652, 37653, 37654, 37655, 37656, 37657, 37658, 37659, 37660, 37661, 37662, 37663, 37664, 37665, 37666, 37667, 37668, 37669, 37670, 37671, 37672, 37673, 37674, 37675, 37676, 37677, 37678, 37679, 37680, 37681, 37682, 37683, 37684, 37685, 37710, 37711, 37712, 37731, 37732, 37733, 37784, 37785, 37786, 37831, 37832, 37833, 37881, 37882, 37883, 37908, 37936, 37987, 37990, 37991, 37992, 38039, 38040, 38041, 38088, 38089, 38090, 38131, 38132, 38133, 38175, 38176, 38177, 38232, 38233, 38234, 38267, 38301, 38302, 38303, 38343, 38344, 38345, 38372, 38401, 38402, 38403, 38450, 38451, 38452, 38474, 38512, 38568, 38569, 38570, 38618, 38619, 38620, 38667, 38668, 38669, 38720, 38721, 38722, 38767, 38768, 38769, 38815, 38816, 38817, 38862, 38865, 38866, 38867, 38911, 38912, 38913, 38954, 38955, 38956, 38982, 39006, 39007, 39008, 39057, 39058, 39059, 39103, 39104, 39105, 39160, 39161, 39162, 39203, 39204, 39205, 39251, 39252, 39253, 39305, 39306, 39307, 39362, 39363, 39364, 39410, 39411, 39412, 39453, 39454, 39455, 39498, 39499, 39500, 39527, 39556, 39613, 39614, 39615, 39662, 39663, 39664, 39714, 39715, 39716, 39764, 39767, 39768, 39769, 39819, 39820, 39821, 39868, 39869, 39870, 39913, 39914, 39915, 39960, 39961, 39962, 39963, 39964, 39965, 39966, 39967, 39968, 39969, 39970, 39971, 39972, 39973, 39974, 39975, 39976, 39977, 39978, 39979, 39980, 39981, 39982, 39983, 39984, 39985, 39986, 39987, 39988, 39989, 39990, 39991, 39992, 39993, 39994, 39995, 39996, 39997, 39998, 39999, 40000, 40025, 40026, 40027, 40075, 40076, 40077, 40116, 40117, 40118, 40168, 40169, 40170, 40204, 40234, 40235, 40236, 40281, 40282, 40283, 40329, 40330, 40331, 40357, 40358, 40359, 40360, 40361, 40362, 40363, 40364, 40365, 40366, 40367, 40368, 40369, 40370, 40371, 40372, 40373, 40374, 40375, 40376, 40377, 40378, 40394, 40437, 40438, 40439, 40440, 40441, 40442, 40443, 40444, 40445, 40446, 40447, 40448, 40449, 40450, 40451, 40452, 40453, 40454, 40455, 40456, 40457, 40458, 40459, 40480, 40513, 40514, 40515, 40565, 40566, 40567, 40605, 40608, 40609, 40610, 40659, 40660, 40661, 40701, 40702, 40703, 40753, 40754, 40755, 40801, 40802, 40803, 40850, 40851, 40852, 40896, 40897, 40898, 40939, 40940, 40941, 40971, 40978, 40998, 41041, 41042, 41043, 41110, 41111, 41112, 41178, 41179, 41180, 41245, 41246, 41247, 41315, 41316, 41317, 41383, 41384, 41385, 41403, 41404, 41405, 41406, 41407, 41408, 41409, 41410, 41411, 41412, 41413, 41414, 41415, 41416, 41417, 41418, 41419, 41420, 41421, 41422, 41423, 41424, 41425, 41426, 41427, 41428, 41429, 41430, 41431, 41432, 41433, 41434, 41435, 41436, 41437, 41438, 41439, 41440, 41441, 41442, 41443, 41444, 41445, 41446, 41447, 41448, 41449, 41467, 41533, 41534, 41535, 41555, 41609, 41610, 41611, 41663, 41666, 41667, 41668, 41710, 41711, 41712, 41713, 41714, 41715, 41716, 41717, 41718, 41719, 41720, 41721, 41722, 41723, 41724, 41725, 41726, 41727, 41728, 41729, 41730, 41731, 41732, 41733, 41734, 41735, 41736, 41737, 41738, 41739, 41740, 41741, 41742, 41743, 41744, 41745, 41746, 41747, 41748, 41749, 41750, 41751, 41752, 41753, 41754, 41755, 41775, 41776, 41777, 41816, 41817, 41818, 41841, 41881, 41882, 41883, 41884, 41885, 41886, 41887, 41888, 41889, 41890, 41891, 41892, 41893, 41894, 41895, 41896, 41897, 41898, 41899, 41900, 41901, 41902, 41928, 41983, 41984, 41985, 42037, 42038, 42039, 42066, 42067, 42068, 42069, 42070, 42071, 42072, 42073, 42074, 42075, 42076, 42077, 42078, 42079, 42080, 42081, 42082, 42083, 42084, 42085, 42086, 42087, 42088, 42089, 42090, 42091, 42092, 42093, 42094, 42095, 42096, 42097, 42098, 42099, 42100, 42101, 42102, 42103, 42104, 42105, 42106, 42107, 42131, 42132, 42133, 42154, 42201, 42202, 42203, 42239, 42240, 42241, 42282, 42283, 42284, 42330, 42382, 42383, 42384, 42429, 42430, 42431, 42475, 42478, 42531, 42579, 42580, 42581, 42632, 42684, 42724, 42753, 42754, 42755, 42800, 42801, 42802, 42853, 42854, 42855, 42900, 42901, 42902, 42938, 42939, 42940, 42984, 42985, 42986, 43009, 43017, 43031, 43069, 43070, 43071, 43114, 43172, 43173, 43174, 43229, 43230, 43231, 43275, 43276, 43277, 43324, 43382, 43383, 43384, 43437, 43440, 43441, 43442, 43472, 43495, 43496, 43497, 43538, 43539, 43540, 43567, 43600, 43636, 43637, 43638, 43679, 43728, 43729, 43730, 43775, 43776, 43777, 43820, 43821, 43822, 43861, 43862, 43863, 43905, 43906, 43907, 43947, 43948, 43949, 43964, 44001, 44002, 44003, 44042, 44043, 44044, 44091, 44092, 44093, 44141, 44142, 44143, 44176, 44202, 44205, 44206, 44207, 44253, 44302, 44303, 44304, 44349, 44394, 44433, 44434, 44435, 44436, 44437, 44438, 44439, 44459, 44483, 44484, 44485, 44528, 44529, 44530, 44585, 44586, 44587, 44632, 44633, 44634, 44678, 44679, 44680, 44708, 44745, 44800, 44801, 44802, 44848, 44849, 44850, 44897, 44898, 44899, 44942, 44943, 44944, 44983, 44984, 44985, 45028, 45029, 45030, 45075, 45076, 45077, 45120, 45123, 45124, 45125, 45167, 45168, 45169, 45200, 45228, 45229, 45230, 45279, 45280, 45281, 45319, 45320, 45321, 45369, 45370, 45371, 45416, 45417, 45418, 45444, 45470, 45511, 45535, 45536, 45537, 45566, 45621, 45670, 45723, 45724, 45725, 45746, 45780, 45781, 45782, 45783, 45784, 45785, 45786, 45787, 45788, 45789, 45790, 45791, 45792, 45793, 45794, 45795, 45796, 45797, 45798, 45799, 45800, 45801, 45818, 45821, 45873, 45928, 45929, 45930, 45962, 45984, 46039, 46040, 46041, 46087, 46088, 46089, 46138, 46139, 46140])\n"
     ]
    },
    {
     "name": "stdin",
     "output_type": "stream",
     "text": [
      "(Pdb)  q\n"
     ]
    },
    {
     "ename": "BdbQuit",
     "evalue": "",
     "output_type": "error",
     "traceback": [
      "\u001b[0;31m---------------------------------------------------------------------------\u001b[0m",
      "\u001b[0;31mBdbQuit\u001b[0m                                   Traceback (most recent call last)",
      "\u001b[0;32m<ipython-input-73-5c998fd87cb8>\u001b[0m in \u001b[0;36m<module>\u001b[0;34m\u001b[0m\n\u001b[1;32m      6\u001b[0m \u001b[0;34m\u001b[0m\u001b[0m\n\u001b[1;32m      7\u001b[0m \u001b[0;34m\u001b[0m\u001b[0m\n\u001b[0;32m----> 8\u001b[0;31m \u001b[0mmax\u001b[0m\u001b[0;34m(\u001b[0m\u001b[0md\u001b[0m\u001b[0;34m.\u001b[0m\u001b[0mitems\u001b[0m\u001b[0;34m(\u001b[0m\u001b[0;34m)\u001b[0m\u001b[0;34m,\u001b[0m \u001b[0mkey\u001b[0m\u001b[0;34m=\u001b[0m\u001b[0mkey\u001b[0m\u001b[0;34m)\u001b[0m\u001b[0;34m\u001b[0m\u001b[0;34m\u001b[0m\u001b[0m\n\u001b[0m",
      "\u001b[0;32m<ipython-input-73-5c998fd87cb8>\u001b[0m in \u001b[0;36mkey\u001b[0;34m(k)\u001b[0m\n\u001b[1;32m      2\u001b[0m \u001b[0;34m\u001b[0m\u001b[0m\n\u001b[1;32m      3\u001b[0m \u001b[0;32mdef\u001b[0m \u001b[0mkey\u001b[0m\u001b[0;34m(\u001b[0m\u001b[0mk\u001b[0m\u001b[0;34m)\u001b[0m\u001b[0;34m:\u001b[0m\u001b[0;34m\u001b[0m\u001b[0;34m\u001b[0m\u001b[0m\n\u001b[0;32m----> 4\u001b[0;31m     \u001b[0mpdb\u001b[0m\u001b[0;34m.\u001b[0m\u001b[0mset_trace\u001b[0m\u001b[0;34m(\u001b[0m\u001b[0;34m)\u001b[0m\u001b[0;34m\u001b[0m\u001b[0;34m\u001b[0m\u001b[0m\n\u001b[0m\u001b[1;32m      5\u001b[0m \u001b[0;34m\u001b[0m\u001b[0m\n\u001b[1;32m      6\u001b[0m \u001b[0;34m\u001b[0m\u001b[0m\n",
      "\u001b[0;32m/usr/lib/python3.8/bdb.py\u001b[0m in \u001b[0;36mtrace_dispatch\u001b[0;34m(self, frame, event, arg)\u001b[0m\n\u001b[1;32m     90\u001b[0m             \u001b[0;32mreturn\u001b[0m \u001b[0mself\u001b[0m\u001b[0;34m.\u001b[0m\u001b[0mdispatch_call\u001b[0m\u001b[0;34m(\u001b[0m\u001b[0mframe\u001b[0m\u001b[0;34m,\u001b[0m \u001b[0marg\u001b[0m\u001b[0;34m)\u001b[0m\u001b[0;34m\u001b[0m\u001b[0;34m\u001b[0m\u001b[0m\n\u001b[1;32m     91\u001b[0m         \u001b[0;32mif\u001b[0m \u001b[0mevent\u001b[0m \u001b[0;34m==\u001b[0m \u001b[0;34m'return'\u001b[0m\u001b[0;34m:\u001b[0m\u001b[0;34m\u001b[0m\u001b[0;34m\u001b[0m\u001b[0m\n\u001b[0;32m---> 92\u001b[0;31m             \u001b[0;32mreturn\u001b[0m \u001b[0mself\u001b[0m\u001b[0;34m.\u001b[0m\u001b[0mdispatch_return\u001b[0m\u001b[0;34m(\u001b[0m\u001b[0mframe\u001b[0m\u001b[0;34m,\u001b[0m \u001b[0marg\u001b[0m\u001b[0;34m)\u001b[0m\u001b[0;34m\u001b[0m\u001b[0;34m\u001b[0m\u001b[0m\n\u001b[0m\u001b[1;32m     93\u001b[0m         \u001b[0;32mif\u001b[0m \u001b[0mevent\u001b[0m \u001b[0;34m==\u001b[0m \u001b[0;34m'exception'\u001b[0m\u001b[0;34m:\u001b[0m\u001b[0;34m\u001b[0m\u001b[0;34m\u001b[0m\u001b[0m\n\u001b[1;32m     94\u001b[0m             \u001b[0;32mreturn\u001b[0m \u001b[0mself\u001b[0m\u001b[0;34m.\u001b[0m\u001b[0mdispatch_exception\u001b[0m\u001b[0;34m(\u001b[0m\u001b[0mframe\u001b[0m\u001b[0;34m,\u001b[0m \u001b[0marg\u001b[0m\u001b[0;34m)\u001b[0m\u001b[0;34m\u001b[0m\u001b[0;34m\u001b[0m\u001b[0m\n",
      "\u001b[0;32m/usr/lib/python3.8/bdb.py\u001b[0m in \u001b[0;36mdispatch_return\u001b[0;34m(self, frame, arg)\u001b[0m\n\u001b[1;32m    152\u001b[0m             \u001b[0;32mfinally\u001b[0m\u001b[0;34m:\u001b[0m\u001b[0;34m\u001b[0m\u001b[0;34m\u001b[0m\u001b[0m\n\u001b[1;32m    153\u001b[0m                 \u001b[0mself\u001b[0m\u001b[0;34m.\u001b[0m\u001b[0mframe_returning\u001b[0m \u001b[0;34m=\u001b[0m \u001b[0;32mNone\u001b[0m\u001b[0;34m\u001b[0m\u001b[0;34m\u001b[0m\u001b[0m\n\u001b[0;32m--> 154\u001b[0;31m             \u001b[0;32mif\u001b[0m \u001b[0mself\u001b[0m\u001b[0;34m.\u001b[0m\u001b[0mquitting\u001b[0m\u001b[0;34m:\u001b[0m \u001b[0;32mraise\u001b[0m \u001b[0mBdbQuit\u001b[0m\u001b[0;34m\u001b[0m\u001b[0;34m\u001b[0m\u001b[0m\n\u001b[0m\u001b[1;32m    155\u001b[0m             \u001b[0;31m# The user issued a 'next' or 'until' command.\u001b[0m\u001b[0;34m\u001b[0m\u001b[0;34m\u001b[0m\u001b[0;34m\u001b[0m\u001b[0m\n\u001b[1;32m    156\u001b[0m             \u001b[0;32mif\u001b[0m \u001b[0mself\u001b[0m\u001b[0;34m.\u001b[0m\u001b[0mstopframe\u001b[0m \u001b[0;32mis\u001b[0m \u001b[0mframe\u001b[0m \u001b[0;32mand\u001b[0m \u001b[0mself\u001b[0m\u001b[0;34m.\u001b[0m\u001b[0mstoplineno\u001b[0m \u001b[0;34m!=\u001b[0m \u001b[0;34m-\u001b[0m\u001b[0;36m1\u001b[0m\u001b[0;34m:\u001b[0m\u001b[0;34m\u001b[0m\u001b[0;34m\u001b[0m\u001b[0m\n",
      "\u001b[0;31mBdbQuit\u001b[0m: "
     ]
    }
   ],
   "source": [
    "import pdb\n",
    "\n",
    "def key(k):\n",
    "    pdb.set_trace()\n",
    "    \n",
    "    \n",
    "\n",
    "max(d.items(), key=lambda pair: len(pair[1]))"
   ]
  },
  {
   "cell_type": "code",
   "execution_count": null,
   "metadata": {},
   "outputs": [],
   "source": []
  },
  {
   "cell_type": "code",
   "execution_count": null,
   "metadata": {},
   "outputs": [
    {
     "data": {
      "text/plain": [
       "('  ', 10896)"
      ]
     },
     "execution_count": 38,
     "metadata": {},
     "output_type": "execute_result"
    }
   ],
   "source": [
    "counter.most_common(1)[0]"
   ]
  },
  {
   "cell_type": "code",
   "execution_count": null,
   "metadata": {},
   "outputs": [],
   "source": [
    "corpus = tokenizer.minicorpus\n",
    "tokens = [char for string in corpus for char in string]\n"
   ]
  },
  {
   "cell_type": "code",
   "execution_count": null,
   "metadata": {},
   "outputs": [
    {
     "ename": "SyntaxError",
     "evalue": "iterable unpacking cannot be used in comprehension (<ipython-input-14-b5bcae41da3c>, line 1)",
     "output_type": "error",
     "traceback": [
      "\u001b[0;36m  File \u001b[0;32m\"<ipython-input-14-b5bcae41da3c>\"\u001b[0;36m, line \u001b[0;32m1\u001b[0m\n\u001b[0;31m    [ *word.split(\"\") for word in corpus ]\u001b[0m\n\u001b[0m      ^\u001b[0m\n\u001b[0;31mSyntaxError\u001b[0m\u001b[0;31m:\u001b[0m iterable unpacking cannot be used in comprehension\n"
     ]
    }
   ],
   "source": [
    "t.from_corpus(corpus)"
   ]
  },
  {
   "cell_type": "code",
   "execution_count": null,
   "metadata": {},
   "outputs": [
    {
     "name": "stdout",
     "output_type": "stream",
     "text": [
      "0 15\n",
      "1 15\n",
      "2 15\n",
      "0 14\n",
      "1 14\n",
      "2 14\n",
      "3 14\n",
      "4 14\n",
      "5 14\n",
      "6 14\n",
      "7 14\n",
      "8 14\n",
      "9 14\n",
      "10 14\n",
      "11 14\n",
      "0 13\n",
      "1 13\n",
      "2 13\n",
      "3 13\n",
      "4 13\n",
      "5 13\n",
      "6 13\n",
      "7 13\n",
      "8 13\n",
      "9 13\n",
      "10 13\n",
      "0 12\n",
      "1 12\n",
      "2 12\n",
      "3 12\n",
      "4 12\n",
      "5 12\n",
      "6 12\n",
      "7 12\n",
      "8 12\n",
      "9 12\n",
      "10 12\n"
     ]
    },
    {
     "data": {
      "text/plain": [
       "['I', ' ', 'am', ' ', 'a', ' ', 'c', 'h', 'i', 'c', 'ken', '!']"
      ]
     },
     "execution_count": 16,
     "metadata": {},
     "output_type": "execute_result"
    }
   ],
   "source": [
    "t.tokenize(\"I am a chicken!\")"
   ]
  },
  {
   "cell_type": "code",
   "execution_count": null,
   "metadata": {},
   "outputs": [
    {
     "name": "stdout",
     "output_type": "stream",
     "text": [
      "0 19\n",
      "1 19\n",
      "2 19\n",
      "3 19\n",
      "0 18\n",
      "1 18\n",
      "2 18\n",
      "0 17\n",
      "1 17\n",
      "2 17\n",
      "3 17\n",
      "4 17\n",
      "0 16\n",
      "1 16\n",
      "2 16\n",
      "3 16\n",
      "4 16\n",
      "5 16\n",
      "6 16\n",
      "7 16\n",
      "8 16\n",
      "0 15\n",
      "1 15\n",
      "2 15\n",
      "3 15\n",
      "4 15\n",
      "5 15\n",
      "6 15\n",
      "7 15\n",
      "0 14\n",
      "1 14\n",
      "2 14\n",
      "3 14\n",
      "4 14\n",
      "5 14\n",
      "6 14\n",
      "0 13\n",
      "1 13\n",
      "2 13\n",
      "3 13\n",
      "4 13\n",
      "5 13\n",
      "6 13\n",
      "7 13\n",
      "8 13\n",
      "0 12\n",
      "1 12\n",
      "2 12\n",
      "3 12\n",
      "4 12\n",
      "5 12\n",
      "6 12\n",
      "7 12\n",
      "8 12\n",
      "0 11\n",
      "1 11\n",
      "2 11\n",
      "3 11\n",
      "4 11\n",
      "5 11\n",
      "6 11\n",
      "7 11\n",
      "8 11\n",
      "9 11\n",
      "0 10\n",
      "1 10\n",
      "2 10\n",
      "3 10\n",
      "4 10\n",
      "5 10\n",
      "6 10\n",
      "7 10\n",
      "8 10\n",
      "0 9\n",
      "1 9\n",
      "2 9\n",
      "3 9\n",
      "4 9\n",
      "5 9\n",
      "6 9\n",
      "7 9\n"
     ]
    },
    {
     "data": {
      "text/plain": [
       "['I', ' ', 'can', ' ', 'do', ' ', 'spit', ' ', 'today']"
      ]
     },
     "execution_count": 20,
     "metadata": {},
     "output_type": "execute_result"
    }
   ],
   "source": [
    "t.tokenize(\"I can do spit today\")"
   ]
  },
  {
   "cell_type": "code",
   "execution_count": null,
   "metadata": {},
   "outputs": [
    {
     "ename": "SyntaxError",
     "evalue": "unexpected EOF while parsing (<ipython-input-15-cb40750d32d1>, line 8)",
     "output_type": "error",
     "traceback": [
      "\u001b[0;36m  File \u001b[0;32m\"<ipython-input-15-cb40750d32d1>\"\u001b[0;36m, line \u001b[0;32m8\u001b[0m\n\u001b[0;31m    \u001b[0m\n\u001b[0m    ^\u001b[0m\n\u001b[0;31mSyntaxError\u001b[0m\u001b[0;31m:\u001b[0m unexpected EOF while parsing\n"
     ]
    }
   ],
   "source": [
    "known_distribution\n",
    "\n",
    "def viterbi_this(known_dist, sentence):\n",
    "    # Do Viterbi things\n",
    "    # 1. count up the possible tokenization permutation for the sentence\n",
    "    tokens = [char for string in corpus for char in string]\n",
    "    \n",
    "    \n",
    "    # 2. See which permutation has the lowest entropy\n",
    "    # 3. use said \"lowest entropy\" permutation\n",
    "    "
   ]
  }
 ],
 "metadata": {
  "kernelspec": {
   "display_name": "Python 3",
   "language": "python",
   "name": "python3"
  },
  "language_info": {
   "codemirror_mode": {
    "name": "ipython",
    "version": 3
   },
   "file_extension": ".py",
   "mimetype": "text/x-python",
   "name": "python",
   "nbconvert_exporter": "python",
   "pygments_lexer": "ipython3",
   "version": "3.8.10"
  }
 },
 "nbformat": 4,
 "nbformat_minor": 4
}
