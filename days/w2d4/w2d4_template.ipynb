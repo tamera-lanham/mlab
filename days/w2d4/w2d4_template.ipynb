{
 "cells": [
  {
   "cell_type": "code",
   "execution_count": 8,
   "metadata": {},
   "outputs": [],
   "source": [
    "import gin\n",
    "import torch as t\n",
    "import torch.nn as nn\n",
    "from hpsearch import hpsearch"
   ]
  },
  {
   "cell_type": "code",
   "execution_count": 9,
   "metadata": {},
   "outputs": [],
   "source": [
    "# search.hpsearch(\n",
    "#     name=\"my_project\", \n",
    "#     function_path=\"days.w2d2.train\", \n",
    "#     gin_config_path=\"w2d2/config.gin\", \n",
    "#     search_spec={\"train.lr\": [0.1, 0.01], \n",
    "#     \"MyModel.hidden_size\": [128,256]})\n"
   ]
  },
  {
   "cell_type": "code",
   "execution_count": 11,
   "metadata": {},
   "outputs": [
    {
     "ename": "SyntaxError",
     "evalue": "invalid character in identifier (<ipython-input-11-fefd72bb6b97>, line 6)",
     "output_type": "error",
     "traceback": [
      "\u001b[0;36m  File \u001b[0;32m\"<ipython-input-11-fefd72bb6b97>\"\u001b[0;36m, line \u001b[0;32m6\u001b[0m\n\u001b[0;31m    {\"train.lr\": [1e-3, 1e-4, 1e-5], \"MyModel.hidden_size\": [32, 64],”set_random_seed.seed”:[0,1,2,3]},\u001b[0m\n\u001b[0m                                                                                    ^\u001b[0m\n\u001b[0;31mSyntaxError\u001b[0m\u001b[0;31m:\u001b[0m invalid character in identifier\n"
     ]
    }
   ],
   "source": [
    "# Theirs\n",
    "hpsearch(\n",
    "    \"mlps_without_activations\",\n",
    "    \"days.w2d4.demo_train.train\",\n",
    "    \"days/w2d4/demo_train.gin\",\n",
    "    {\"train.lr\": [1e-3, 1e-4, 1e-5], \"MyModel.hidden_size\": [32, 64],`set_random_seed.seed`:[0,1,2,3]},\n",
    "    # We provide an additional Gin-configurable function set_random_seed(seed). This means you can control it in your gin without writing the function yourself\n",
    "    comet_key=\"BqQbt7OiPG0nJ1M3dtHQqB0Wk\",\n",
    "    local:bool = True # set to false after it works locally! \n",
    ")"
   ]
  },
  {
   "cell_type": "code",
   "execution_count": null,
   "metadata": {},
   "outputs": [],
   "source": []
  }
 ],
 "metadata": {
  "kernelspec": {
   "display_name": "Python 3",
   "language": "python",
   "name": "python3"
  },
  "language_info": {
   "codemirror_mode": {
    "name": "ipython",
    "version": 3
   },
   "file_extension": ".py",
   "mimetype": "text/x-python",
   "name": "python",
   "nbconvert_exporter": "python",
   "pygments_lexer": "ipython3",
   "version": "3.8.10"
  }
 },
 "nbformat": 4,
 "nbformat_minor": 4
}
