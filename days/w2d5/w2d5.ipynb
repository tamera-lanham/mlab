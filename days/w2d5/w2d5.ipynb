{
 "cells": [
  {
   "cell_type": "code",
   "execution_count": 7,
   "metadata": {},
   "outputs": [],
   "source": [
    "import os\n",
    "import torch as t\n",
    "import torch.distributed as dist\n",
    "import torch.multiprocessing as mp\n",
    "from torch.multiprocessing import Process\n",
    "import transformers\n",
    "import json\n",
    "from io import StringIO\n",
    "\n",
    "import sys\n",
    "sys.path.append('/home/ubuntu/mlab/days')\n",
    "import utils\n",
    "\n",
    "DEVICES=[0,1]\n",
    "\n",
    "\n",
    "\n",
    "def import_lesswrong_corpus():\n",
    "    with open(\"/home/ubuntu/lw_corpus.json\") as file:\n",
    "        return json.load(file)\n",
    "    return None"
   ]
  },
  {
   "cell_type": "code",
   "execution_count": 44,
   "metadata": {},
   "outputs": [],
   "source": [
    "def corpus_to_tensor_list(corpus, max_tokens=1024):\n",
    "    tokenizer = transformers.GPT2TokenizerFast.from_pretrained(\"gpt2\")\n",
    "    \n",
    "    tensor_list = []\n",
    "    current_tokens, staged_tokens = [], []\n",
    "    \n",
    "    for i, d in enumerate(corpus):\n",
    "        print(\"Time for the: \", i)\n",
    "        while True:\n",
    "            if not len(staged_tokens) >= max_tokens:\n",
    "                staged_tokens = tokenizer(d['title'] + d['text'] + '<|endoftext|>').input_ids\n",
    "            while len(current_tokens) < max_tokens and len(staged_tokens) > max_tokens:\n",
    "\n",
    "                space_in_current = max_tokens - len(current_tokens)            \n",
    "                current_tokens += staged_tokens[0:space_in_current]\n",
    "                staged_tokens = staged_tokens[space_in_current:None]\n",
    "                print(len(staged_tokens), \":\", staged_tokens)\n",
    "\n",
    "            tensor_list.append(t.tensor(current_tokens))\n",
    "            current_tokens = []\n",
    "            break\n",
    "        \n",
    "    tensor_list.append(t.tensor(current_tokens))\n",
    "    return tensor_list"
   ]
  },
  {
   "cell_type": "code",
   "execution_count": 20,
   "metadata": {},
   "outputs": [],
   "source": [
    "import transformers\n",
    "tokenizer = transformers.GPT2TokenizerFast.from_pretrained(\"gpt2\")"
   ]
  },
  {
   "cell_type": "code",
   "execution_count": 45,
   "metadata": {},
   "outputs": [
    {
     "name": "stdout",
     "output_type": "stream",
     "text": [
      "Time for the:  0\n",
      "28 : [2159, 10074, 9, 287, 262, 10470, 286, 383, 13248, 10933, 286, 3977, 22197, 329, 534, 3555, 329, 3707, 290, 9739, 13, 220, 29630, 36, 5959, 11, 12680, 50256]\n",
      "Time for the:  1\n",
      "18 : [286, 3977, 22197, 329, 534, 3555, 329, 3707, 290, 9739, 13, 220, 29630, 36, 5959, 11, 12680, 50256]\n",
      "Time for the:  2\n",
      "8 : [13, 220, 29630, 36, 5959, 11, 12680, 50256]\n",
      "['title', '1', 'Project', 'Gutenberg', 'is', 'proud', 'to', 'cooperate', 'with', 'The']\n",
      "['World', 'Library', '*', 'in', 'the', 'presentation', 'of', 'The', 'Complete', 'Works']\n",
      "['of', 'William', 'Shakespeare', 'for', 'your', 'reading', 'for', 'education', 'and', 'entertainment']\n",
      "[]\n"
     ]
    }
   ],
   "source": [
    "corpus = import_lesswrong_corpus()\n",
    "t_list = corpus_to_tensor_list(corpus, 10)\n",
    "for tensor in t_list:\n",
    "    tokens = tokenizer.convert_ids_to_tokens(tensor)\n",
    "    print([token.replace('Ġ', '') for token in tokens])"
   ]
  },
  {
   "cell_type": "code",
   "execution_count": null,
   "metadata": {},
   "outputs": [],
   "source": []
  }
 ],
 "metadata": {
  "kernelspec": {
   "display_name": "Python 3",
   "language": "python",
   "name": "python3"
  },
  "language_info": {
   "codemirror_mode": {
    "name": "ipython",
    "version": 3
   },
   "file_extension": ".py",
   "mimetype": "text/x-python",
   "name": "python",
   "nbconvert_exporter": "python",
   "pygments_lexer": "ipython3",
   "version": "3.8.10"
  }
 },
 "nbformat": 4,
 "nbformat_minor": 4
}
