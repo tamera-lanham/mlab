{
 "cells": [
  {
   "cell_type": "code",
   "execution_count": 11,
   "id": "c60fbbb6-58ca-4b7d-bfd6-c250a55182c9",
   "metadata": {},
   "outputs": [],
   "source": [
    "import torch as t\n",
    "import einops"
   ]
  },
  {
   "cell_type": "code",
   "execution_count": 15,
   "id": "849fbbc1-8f97-41fb-964b-6f05f2d16366",
   "metadata": {},
   "outputs": [
    {
     "data": {
      "text/plain": [
       "tensor([[  2,   6,  12,  20,  30],\n",
       "        [ 42,  56,  72,  90, 110],\n",
       "        [132, 156, 182, 210, 240],\n",
       "        [272, 306, 342, 380, 420]])"
      ]
     },
     "execution_count": 15,
     "metadata": {},
     "output_type": "execute_result"
    }
   ],
   "source": [
    "n, m, p = 4, 5, 6\n",
    "\n",
    "A = t.arange(1, n*m+1).reshape((n,m))\n",
    "B = A + 1\n",
    "\n",
    "t.einsum('... , ... -> ...', A, B)"
   ]
  },
  {
   "cell_type": "code",
   "execution_count": 17,
   "id": "918cbf96-1ba0-4bf3-abef-655779fc18b2",
   "metadata": {},
   "outputs": [
    {
     "data": {
      "text/plain": [
       "tensor([[  2,   6,  12,  20,  30],\n",
       "        [ 42,  56,  72,  90, 110],\n",
       "        [132, 156, 182, 210, 240],\n",
       "        [272, 306, 342, 380, 420]])"
      ]
     },
     "execution_count": 17,
     "metadata": {},
     "output_type": "execute_result"
    }
   ],
   "source": [
    "A * B"
   ]
  },
  {
   "cell_type": "code",
   "execution_count": 19,
   "id": "2474e018-8948-42c6-af1d-d5104b46e6be",
   "metadata": {},
   "outputs": [
    {
     "data": {
      "text/plain": [
       "(tensor([ -9, -10,  -5,   4,  -3]), tensor([ 1, -8,  0]))"
      ]
     },
     "execution_count": 19,
     "metadata": {},
     "output_type": "execute_result"
    }
   ],
   "source": [
    "u = t.randint(-10, 10, (5,))\n",
    "v = t.randint(-10, 10, (3,))\n",
    "u, v"
   ]
  },
  {
   "cell_type": "code",
   "execution_count": 23,
   "id": "e2a8eea8-4c12-4d64-9b79-95aea5673125",
   "metadata": {},
   "outputs": [
    {
     "data": {
      "text/plain": [
       "tensor([[ -9,  72,   0],\n",
       "        [-10,  80,   0],\n",
       "        [ -5,  40,   0],\n",
       "        [  4, -32,   0],\n",
       "        [ -3,  24,   0]])"
      ]
     },
     "execution_count": 23,
     "metadata": {},
     "output_type": "execute_result"
    }
   ],
   "source": [
    "t.einsum('i,j->ij', u, v)"
   ]
  },
  {
   "cell_type": "code",
   "execution_count": 26,
   "id": "896881e0-0312-40ce-84a2-1c87c45da792",
   "metadata": {},
   "outputs": [
    {
     "data": {
      "text/plain": [
       "(tensor([[ 1,  2,  3,  4,  5],\n",
       "         [ 6,  7,  8,  9, 10],\n",
       "         [11, 12, 13, 14, 15],\n",
       "         [16, 17, 18, 19, 20]]),\n",
       " tensor([1, 2, 3, 4, 5]))"
      ]
     },
     "execution_count": 26,
     "metadata": {},
     "output_type": "execute_result"
    }
   ],
   "source": [
    "A\n",
    "b = t.arange(1, 6)\n",
    "A, b"
   ]
  },
  {
   "cell_type": "code",
   "execution_count": 27,
   "id": "8b5b70d8-c9a9-4c59-8bc7-3cea782e58c4",
   "metadata": {},
   "outputs": [
    {
     "data": {
      "text/plain": [
       "tensor([[  1,   4,   9,  16,  25],\n",
       "        [  6,  14,  24,  36,  50],\n",
       "        [ 11,  24,  39,  56,  75],\n",
       "        [ 16,  34,  54,  76, 100]])"
      ]
     },
     "execution_count": 27,
     "metadata": {},
     "output_type": "execute_result"
    }
   ],
   "source": [
    "t.einsum('ij,j->ij', A, b)"
   ]
  },
  {
   "cell_type": "code",
   "execution_count": 30,
   "id": "cb9818c4-71a8-4efa-b861-223c0f2ebd3c",
   "metadata": {},
   "outputs": [
    {
     "data": {
      "text/plain": [
       "(tensor([[1, 2],\n",
       "         [3, 4]]),\n",
       " tensor([[[1, 0],\n",
       "          [0, 0]],\n",
       " \n",
       "         [[0, 0],\n",
       "          [0, 1]]]))"
      ]
     },
     "execution_count": 30,
     "metadata": {},
     "output_type": "execute_result"
    }
   ],
   "source": [
    "A = t.tensor([[1, 2],[3,4]])\n",
    "delta = t.tensor([[[1,0],[0,0]],[[0,0],[0,1]]])\n",
    "\n",
    "A, delta"
   ]
  },
  {
   "cell_type": "code",
   "execution_count": 31,
   "id": "4dc36772-6c64-438d-a17c-3e6d92f43ea9",
   "metadata": {},
   "outputs": [
    {
     "data": {
      "text/plain": [
       "tensor([[[1, 0],\n",
       "         [0, 2]],\n",
       "\n",
       "        [[3, 0],\n",
       "         [0, 4]]])"
      ]
     },
     "execution_count": 31,
     "metadata": {},
     "output_type": "execute_result"
    }
   ],
   "source": [
    "t.einsum('ij,jkl->ikl', A, delta)"
   ]
  },
  {
   "cell_type": "code",
   "execution_count": null,
   "id": "d39022ab-012e-472e-a507-3e9606e28f33",
   "metadata": {},
   "outputs": [],
   "source": []
  }
 ],
 "metadata": {
  "kernelspec": {
   "display_name": "Python 3 (ipykernel)",
   "language": "python",
   "name": "python3"
  },
  "language_info": {
   "codemirror_mode": {
    "name": "ipython",
    "version": 3
   },
   "file_extension": ".py",
   "mimetype": "text/x-python",
   "name": "python",
   "nbconvert_exporter": "python",
   "pygments_lexer": "ipython3",
   "version": "3.8.12"
  }
 },
 "nbformat": 4,
 "nbformat_minor": 5
}
