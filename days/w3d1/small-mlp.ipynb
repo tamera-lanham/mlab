{
 "cells": [
  {
   "cell_type": "code",
   "execution_count": 1,
   "id": "ee976124-a9e4-41c4-a739-ceb28ceccd5f",
   "metadata": {},
   "outputs": [],
   "source": [
    "import torch as t\n",
    "import torch.nn as nn\n",
    "\n",
    "class MLP(nn.Module):\n",
    "    def __init__(self, layer_sizes=[16, 128, 128, 16], bias=False, device=None):\n",
    "        super().__init__()\n",
    "        self.model = nn.Sequential(\n",
    "            *[nn.Linear(size, layer_sizes[i+1], bias, device) for i, size in enumerate(layer_sizes[:-1])]\n",
    "        )\n",
    "    \n",
    "    def forward(self, x):\n",
    "        return self.model(x)"
   ]
  },
  {
   "cell_type": "code",
   "execution_count": null,
   "id": "cc26d295-1114-421a-9dc8-62612de8a924",
   "metadata": {},
   "outputs": [],
   "source": []
  }
 ],
 "metadata": {
  "kernelspec": {
   "display_name": "Python 3 (ipykernel)",
   "language": "python",
   "name": "python3"
  },
  "language_info": {
   "codemirror_mode": {
    "name": "ipython",
    "version": 3
   },
   "file_extension": ".py",
   "mimetype": "text/x-python",
   "name": "python",
   "nbconvert_exporter": "python",
   "pygments_lexer": "ipython3",
   "version": "3.8.12"
  }
 },
 "nbformat": 4,
 "nbformat_minor": 5
}
