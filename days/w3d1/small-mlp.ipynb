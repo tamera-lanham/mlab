{
 "cells": [
  {
   "cell_type": "code",
   "execution_count": 73,
   "id": "ee976124-a9e4-41c4-a739-ceb28ceccd5f",
   "metadata": {},
   "outputs": [],
   "source": [
    "import matplotlib.pyplot as plt\n",
    "import torch as t\n",
    "import torch.nn as nn\n",
    "from tqdm import tqdm\n",
    "\n",
    "class MLP(nn.Module):\n",
    "    def __init__(self, layer_sizes=[16, 128, 128, 16], bias=False, device=None):\n",
    "        super().__init__()\n",
    "        layers = [layer for i, size in enumerate(layer_sizes[:-1]) for layer in (nn.Linear(size, layer_sizes[i+1], bias, device), nn.ReLU())]\n",
    "        self.layers = nn.Sequential(*layers[:-1])\n",
    "    \n",
    "    def forward(self, x):\n",
    "        return self.layers(x)\n",
    "    \n",
    "def split_MLP(model, n_parts):\n",
    "    n_lin_layers = len([l for l in model.layers if isinstance(l, nn.Linear)])\n",
    "    assert n_parts <= n_lin_layers\n",
    "    \n",
    "    starts = t.linspace(0, len(model.layers), n_parts + 1).int()[:-1]\n",
    "    ends = t.linspace(0, len(model.layers), n_parts + 1).int()[1:]\n",
    "    \n",
    "    models = [nn.Sequential(*model.layers[s:e]) for s, e in zip(starts, ends)]\n",
    "    \n",
    "    return models\n",
    "\n",
    "def split_MLP_and_save(model, n_parts, filename_pattern = 'mlp-%d.pt'):\n",
    "    models = split_MLP(model, n_parts)\n",
    "    for i, model in enumerate(models):\n",
    "        t.save(model, filename_pattern % i)\n",
    "        \n",
    "\n",
    "###################################################################\n",
    "\n",
    "# Trains model on the identity function\n",
    "def train(model, batch_size=256, n_steps=10):\n",
    "    \n",
    "    shape = (batch_size, model.layers[0].in_features)\n",
    "    data = lambda: (t.rand(shape) * 2 - 1).detach()\n",
    "    \n",
    "    optimizer = t.optim.Adam(model.parameters())\n",
    "    loss_fn = t.nn.MSELoss()\n",
    "    \n",
    "    losses = []\n",
    "    with tqdm(range(n_steps)) as pbar:\n",
    "        for i in pbar:\n",
    "            x = data()\n",
    "\n",
    "            optimizer.zero_grad()\n",
    "            y = model(x)\n",
    "            loss = loss_fn(x, y)\n",
    "            loss.backward()\n",
    "            optimizer.step()\n",
    "            \n",
    "            losses.append(loss.detach())\n",
    "            pbar.set_postfix({'loss': float(loss)})\n",
    "            \n",
    "    return losses"
   ]
  },
  {
   "cell_type": "code",
   "execution_count": 83,
   "id": "cc26d295-1114-421a-9dc8-62612de8a924",
   "metadata": {},
   "outputs": [],
   "source": [
    "model = MLP([128, 256, 256, 256, 128])\n",
    "split_MLP_and_save(model, 4)"
   ]
  },
  {
   "cell_type": "code",
   "execution_count": 84,
   "id": "936847b5-c7e9-4427-a917-b68cd31ca868",
   "metadata": {},
   "outputs": [
    {
     "name": "stderr",
     "output_type": "stream",
     "text": [
      "100%|████████████████████████████████████████████████████████████████████████████████████████████████████████████████████████████████████████████████████████████████████████████████████████████████████████████████| 500/500 [00:01<00:00, 341.79it/s, loss=0.0559]\n"
     ]
    },
    {
     "data": {
      "image/png": "[encoded data removed]",
      "text/plain": [
       "<Figure size 432x288 with 1 Axes>"
      ]
     },
     "metadata": {
      "needs_background": "light"
     },
     "output_type": "display_data"
    }
   ],
   "source": [
    "losses = train(model, n_steps=500)\n",
    "plt.plot(losses);"
   ]
  },
  {
   "cell_type": "code",
   "execution_count": 70,
   "id": "ba69635f-4943-42d1-9042-a2014b4b0c80",
   "metadata": {},
   "outputs": [
    {
     "data": {
      "text/plain": [
       "Linear(in_features=32, out_features=128, bias=False)"
      ]
     },
     "execution_count": 70,
     "metadata": {},
     "output_type": "execute_result"
    }
   ],
   "source": [
    "model.layers[0]"
   ]
  },
  {
   "cell_type": "code",
   "execution_count": null,
   "id": "5d84bba0-dda6-4e0c-a396-cf4e38a72937",
   "metadata": {},
   "outputs": [],
   "source": []
  }
 ],
 "metadata": {
  "kernelspec": {
   "display_name": "Python 3 (ipykernel)",
   "language": "python",
   "name": "python3"
  },
  "language_info": {
   "codemirror_mode": {
    "name": "ipython",
    "version": 3
   },
   "file_extension": ".py",
   "mimetype": "text/x-python",
   "name": "python",
   "nbconvert_exporter": "python",
   "pygments_lexer": "ipython3",
   "version": "3.8.12"
  }
 },
 "nbformat": 4,
 "nbformat_minor": 5
}
