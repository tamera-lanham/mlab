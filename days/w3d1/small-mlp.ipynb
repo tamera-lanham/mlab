{
 "cells": [
  {
   "cell_type": "code",
   "execution_count": 113,
   "id": "ee976124-a9e4-41c4-a739-ceb28ceccd5f",
   "metadata": {},
   "outputs": [],
   "source": [
    "import matplotlib.pyplot as plt\n",
    "import torch as t\n",
    "import torch.nn as nn\n",
    "from tqdm import tqdm\n",
    "\n",
    "class MLP(nn.Module):\n",
    "    def __init__(self, layer_sizes=[16, 128, 128, 16], bias=False, device=None):\n",
    "        super().__init__()\n",
    "        layers = [layer for i, size in enumerate(layer_sizes[:-1]) for layer in (nn.Linear(size, layer_sizes[i+1], bias, device), nn.ReLU())]\n",
    "        self.layers = nn.Sequential(*layers[:-1])\n",
    "    \n",
    "    def forward(self, x):\n",
    "        return self.layers(x)\n",
    "    \n",
    "def split_MLP(model, n_parts):\n",
    "    n_lin_layers = len([l for l in model.layers if isinstance(l, nn.Linear)])\n",
    "    assert n_parts <= n_lin_layers\n",
    "    \n",
    "    starts = t.linspace(0, len(model.layers), n_parts + 1).int()[:-1]\n",
    "    ends = t.linspace(0, len(model.layers), n_parts + 1).int()[1:]\n",
    "    \n",
    "    models = [nn.Sequential(*model.layers[s:e]) for s, e in zip(starts, ends)]\n",
    "    \n",
    "    return models\n",
    "\n",
    "filename_pattern = 'mlp-%d.pt'\n",
    "\n",
    "def split_MLP_and_save(model, n_parts, filename_pattern = filename_pattern):\n",
    "    models = split_MLP(model, n_parts)\n",
    "    for i, model in enumerate(models):\n",
    "        t.save(model, filename_pattern % i)\n",
    "        \n",
    "def load_model(rank, filename_pattern=filename_pattern):\n",
    "    return t.load(filename_pattern % rank)\n",
    "\n",
    "\n",
    "###################################################################\n",
    "\n",
    "# Trains model on the identity function\n",
    "def train(model, batch_size=256, n_steps=10):\n",
    "    \n",
    "    shape = (batch_size, model.layers[0].in_features)\n",
    "    data = lambda: t.randint(-256, 256, (shape)).detach()\n",
    "    \n",
    "    optimizer = t.optim.Adam(model.parameters())\n",
    "    loss_fn = t.nn.MSELoss()\n",
    "    \n",
    "    losses = []\n",
    "    with tqdm(range(n_steps)) as pbar:\n",
    "        for i in pbar:\n",
    "            x = data().float()\n",
    "\n",
    "            optimizer.zero_grad()\n",
    "            y = model(x)\n",
    "            loss = loss_fn(x, y)\n",
    "            loss.backward()\n",
    "            optimizer.step()\n",
    "            \n",
    "            losses.append(loss.detach())\n",
    "            pbar.set_postfix({'loss': float(loss)})\n",
    "            \n",
    "    return losses"
   ]
  },
  {
   "cell_type": "code",
   "execution_count": 89,
   "id": "cc26d295-1114-421a-9dc8-62612de8a924",
   "metadata": {},
   "outputs": [],
   "source": [
    "model = MLP([128, 256, 256, 256, 128])\n",
    "split_MLP_and_save(model, 4)"
   ]
  },
  {
   "cell_type": "code",
   "execution_count": 90,
   "id": "936847b5-c7e9-4427-a917-b68cd31ca868",
   "metadata": {},
   "outputs": [
    {
     "name": "stderr",
     "output_type": "stream",
     "text": [
      "100%|████████████████████████████████████████████████████████████| 500/500 [00:01<00:00, 384.82it/s, loss=3.62e+3]\n"
     ]
    },
    {
     "data": {
      "image/png": "[encoded data removed]",
      "text/plain": [
       "<Figure size 432x288 with 1 Axes>"
      ]
     },
     "metadata": {
      "needs_background": "light"
     },
     "output_type": "display_data"
    }
   ],
   "source": [
    "losses = train(model, n_steps=500)\n",
    "plt.plot(losses);"
   ]
  },
  {
   "cell_type": "code",
   "execution_count": 152,
   "id": "34e136bc-ae57-49ec-b32d-21495f5291ce",
   "metadata": {},
   "outputs": [
    {
     "data": {
      "text/plain": [
       "[tensor([[-6.2161, -5.4755, -6.2741,  ...,  7.6438,  2.4707, -2.4638],\n",
       "         [-2.3165, -2.7977,  3.2577,  ...,  0.4599,  4.9748, -1.5924],\n",
       "         [-2.5122, -3.7245, -0.5638,  ...,  3.7774,  2.9107, -3.2526],\n",
       "         ...,\n",
       "         [-0.5895,  1.9955, -7.3904,  ..., -1.0666, -0.4769, -0.8296],\n",
       "         [ 0.1555,  0.7330, -5.6228,  ...,  5.0281,  1.8236, -1.6734],\n",
       "         [ 2.0817, -1.6689, -7.8213,  ...,  5.1224,  1.7173,  2.6098]]),\n",
       " tensor([[ -1.4940,  -3.6090,  -6.3235,  ...,  -4.4008,  -2.7491, -12.6427],\n",
       "         [ 17.5478,  17.0942,  18.3686,  ...,  12.4417,  19.9488,  16.9691],\n",
       "         [  7.3732,   5.0631,  -0.8217,  ...,   6.4245,  -0.9037,   0.5830],\n",
       "         ...,\n",
       "         [ -8.3495,  -2.9810,  -1.2587,  ...,   0.3050,  -0.5095,  -4.5297],\n",
       "         [  2.5303,   3.5465,  10.4417,  ...,   7.1472,   2.3877,   5.8355],\n",
       "         [ -3.7755,   2.5986,  -2.1001,  ...,  -1.2435,  -3.2732,  -6.5480]]),\n",
       " tensor([[ 34.5955,  24.8845,  31.4030,  ...,  33.0480,  28.8213,  31.5392],\n",
       "         [ 37.2787,  52.7856,  40.0037,  ...,  42.0192,  38.2555,  40.4647],\n",
       "         [-16.6652, -29.4238, -17.5732,  ..., -12.0565, -24.7014, -22.5544],\n",
       "         ...,\n",
       "         [ 44.7897,  46.3391,  61.4668,  ...,  45.8393,  48.2636,  42.8991],\n",
       "         [-13.8062,  -9.7915, -12.3428,  ..., -11.8376,  -6.6959, -13.7272],\n",
       "         [  0.0000,   0.0000,   0.0000,  ...,   0.0000,   0.0000,   0.0000]]),\n",
       " tensor([[-16.8951, -21.5903, -17.1617,  ..., -16.3583, -18.4630,   0.0000],\n",
       "         [-22.0549, -19.5573, -39.3393,  ..., -31.3256, -23.9559,   0.0000],\n",
       "         [ 19.9874,  -1.8002,  17.4004,  ...,  13.3010,   5.9811,   0.0000],\n",
       "         ...,\n",
       "         [-36.8305, -48.2745, -32.5710,  ..., -33.3980, -46.9976,   0.0000],\n",
       "         [ 48.8599,  51.1396,  38.7825,  ...,  35.2086,  29.8125,   0.0000],\n",
       "         [-35.1317, -30.0343, -47.9827,  ..., -28.0267, -36.9011,   0.0000]])]"
      ]
     },
     "execution_count": 152,
     "metadata": {},
     "output_type": "execute_result"
    }
   ],
   "source": [
    "[p.grad for p in model.parameters()]"
   ]
  },
  {
   "cell_type": "code",
   "execution_count": 163,
   "id": "ba69635f-4943-42d1-9042-a2014b4b0c80",
   "metadata": {},
   "outputs": [],
   "source": [
    "model_part = load_model(3, 'refactor/'+filename_pattern)"
   ]
  },
  {
   "cell_type": "code",
   "execution_count": 169,
   "id": "ba4671ec-7200-439a-bcf4-f15f3652b241",
   "metadata": {},
   "outputs": [
    {
     "data": {
      "text/plain": [
       "[torch.Size([128, 256]), torch.Size([128])]"
      ]
     },
     "execution_count": 169,
     "metadata": {},
     "output_type": "execute_result"
    }
   ],
   "source": [
    "[p.shape for p in model_part.parameters()]"
   ]
  },
  {
   "cell_type": "code",
   "execution_count": 170,
   "id": "5d84bba0-dda6-4e0c-a396-cf4e38a72937",
   "metadata": {},
   "outputs": [
    {
     "data": {
      "text/plain": [
       "Sequential(\n",
       "  (0): Linear(in_features=256, out_features=128, bias=True)\n",
       ")"
      ]
     },
     "execution_count": 170,
     "metadata": {},
     "output_type": "execute_result"
    }
   ],
   "source": [
    "model_part"
   ]
  },
  {
   "cell_type": "code",
   "execution_count": 197,
   "id": "51b7f85f-d755-4bb3-a379-34e5bb36c85f",
   "metadata": {},
   "outputs": [
    {
     "data": {
      "text/plain": [
       "torch.Size([10, 128])"
      ]
     },
     "execution_count": 197,
     "metadata": {},
     "output_type": "execute_result"
    }
   ],
   "source": [
    "data = lambda: t.randint(-256, 256, (10, 256))\n",
    "x = data().float()\n",
    "y = model_part(x)\n",
    "y.shape"
   ]
  },
  {
   "cell_type": "code",
   "execution_count": 198,
   "id": "0ac91085-f593-463d-92ec-eb45938269d1",
   "metadata": {},
   "outputs": [
    {
     "data": {
      "text/plain": [
       "tensor([[  33.8481,  186.8112, -122.4830,  ...,  -62.2399,  -97.5627,\n",
       "           83.3937],\n",
       "        [  31.1804,  -16.9459,  -79.1419,  ...,  -11.7387, -112.4717,\n",
       "          -68.5201],\n",
       "        [ 101.2213,  -80.9245,   62.2102,  ...,   93.5130,  -22.4523,\n",
       "          -24.8564],\n",
       "        ...,\n",
       "        [  77.8165,  -65.9846, -131.9133,  ...,  -36.1790,  -78.5119,\n",
       "            8.1192],\n",
       "        [ -90.7533,    1.1285,    2.9840,  ...,   85.5291,   37.1142,\n",
       "           42.5019],\n",
       "        [ -35.2706,  120.8369,  140.3546,  ..., -119.1434,  -53.7117,\n",
       "           38.3423]], grad_fn=<AddmmBackward0>)"
      ]
     },
     "execution_count": 198,
     "metadata": {},
     "output_type": "execute_result"
    }
   ],
   "source": [
    "y"
   ]
  },
  {
   "cell_type": "code",
   "execution_count": 199,
   "id": "372899c3-09df-4a0f-8ea1-e39e5658e81c",
   "metadata": {},
   "outputs": [
    {
     "data": {
      "text/plain": [
       "[(torch.Size([128, 256]), torch.Size([128, 256])),\n",
       " (torch.Size([128]), torch.Size([128]))]"
      ]
     },
     "execution_count": 199,
     "metadata": {},
     "output_type": "execute_result"
    }
   ],
   "source": [
    "target = lambda: t.randint(-256, 256, (10, 128))\n",
    "\n",
    "loss_fn = t.nn.MSELoss()\n",
    "targ = target().float()\n",
    "loss = loss_fn(targ, y)\n",
    "loss.backward()\n",
    "\n",
    "[(p.shape, p.grad.shape) for p in model_part.parameters()]"
   ]
  },
  {
   "cell_type": "code",
   "execution_count": 200,
   "id": "4abf4d28-025e-481e-8de6-3d11f6dddde0",
   "metadata": {},
   "outputs": [
    {
     "data": {
      "text/plain": [
       "torch.Size([10, 256])"
      ]
     },
     "execution_count": 200,
     "metadata": {},
     "output_type": "execute_result"
    }
   ],
   "source": [
    "x.shape"
   ]
  },
  {
   "cell_type": "code",
   "execution_count": null,
   "id": "73925ec8-b9e7-4f9d-ba57-af6f2b532602",
   "metadata": {},
   "outputs": [],
   "source": []
  }
 ],
 "metadata": {
  "kernelspec": {
   "display_name": "Python 3 (ipykernel)",
   "language": "python",
   "name": "python3"
  },
  "language_info": {
   "codemirror_mode": {
    "name": "ipython",
    "version": 3
   },
   "file_extension": ".py",
   "mimetype": "text/x-python",
   "name": "python",
   "nbconvert_exporter": "python",
   "pygments_lexer": "ipython3",
   "version": "3.8.12"
  }
 },
 "nbformat": 4,
 "nbformat_minor": 5
}
