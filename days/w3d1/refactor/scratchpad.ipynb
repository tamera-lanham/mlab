{
 "cells": [
  {
   "cell_type": "code",
   "execution_count": 1,
   "id": "290e1138-5c34-4b3a-bcae-ac33f2105dea",
   "metadata": {},
   "outputs": [],
   "source": [
    "%load_ext autoreload\n",
    "%autoreload 2\n",
    "import gpt_model"
   ]
  },
  {
   "cell_type": "code",
   "execution_count": 3,
   "id": "5801be3d-0304-4681-84ba-a936332368e6",
   "metadata": {},
   "outputs": [
    {
     "name": "stderr",
     "output_type": "stream",
     "text": [
      "Some weights of GPTNeoForSequenceClassification were not initialized from the model checkpoint at EleutherAI/gpt-neo-125M and are newly initialized: ['transformer.h.3.attn.attention.bias', 'transformer.h.9.attn.attention.bias', 'transformer.h.5.attn.attention.bias', 'transformer.h.7.attn.attention.bias', 'transformer.h.1.attn.attention.bias', 'transformer.h.11.attn.attention.bias', 'score.weight']\n",
      "You should probably TRAIN this model on a down-stream task to be able to use it for predictions and inference.\n"
     ]
    }
   ],
   "source": [
    "model = gpt_model.transformers.AutoModelForSequenceClassification.from_pretrained(\"EleutherAI/gpt-neo-125M\")\n",
    "gpt_model.split_model_and_save(4, model)"
   ]
  },
  {
   "cell_type": "code",
   "execution_count": null,
   "id": "7e883770-fd7e-4795-bd6d-2727a8227cb7",
   "metadata": {},
   "outputs": [],
   "source": []
  }
 ],
 "metadata": {
  "kernelspec": {
   "display_name": "Python 3 (ipykernel)",
   "language": "python",
   "name": "python3"
  },
  "language_info": {
   "codemirror_mode": {
    "name": "ipython",
    "version": 3
   },
   "file_extension": ".py",
   "mimetype": "text/x-python",
   "name": "python",
   "nbconvert_exporter": "python",
   "pygments_lexer": "ipython3",
   "version": "3.8.12"
  }
 },
 "nbformat": 4,
 "nbformat_minor": 5
}
