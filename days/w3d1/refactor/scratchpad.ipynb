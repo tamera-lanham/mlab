{
 "cells": [
  {
   "cell_type": "code",
   "execution_count": 26,
   "id": "290e1138-5c34-4b3a-bcae-ac33f2105dea",
   "metadata": {},
   "outputs": [
    {
     "name": "stdout",
     "output_type": "stream",
     "text": [
      "The autoreload extension is already loaded. To reload it, use:\n",
      "  %reload_ext autoreload\n"
     ]
    }
   ],
   "source": [
    "%load_ext autoreload\n",
    "%autoreload 2\n",
    "import gpt_model\n",
    "import torch as t"
   ]
  },
  {
   "cell_type": "code",
   "execution_count": 3,
   "id": "5801be3d-0304-4681-84ba-a936332368e6",
   "metadata": {},
   "outputs": [
    {
     "name": "stderr",
     "output_type": "stream",
     "text": [
      "Some weights of GPTNeoForSequenceClassification were not initialized from the model checkpoint at EleutherAI/gpt-neo-125M and are newly initialized: ['transformer.h.3.attn.attention.bias', 'transformer.h.9.attn.attention.bias', 'transformer.h.5.attn.attention.bias', 'transformer.h.7.attn.attention.bias', 'transformer.h.1.attn.attention.bias', 'transformer.h.11.attn.attention.bias', 'score.weight']\n",
      "You should probably TRAIN this model on a down-stream task to be able to use it for predictions and inference.\n"
     ]
    }
   ],
   "source": [
    "model = gpt_model.transformers.AutoModelForSequenceClassification.from_pretrained(\"EleutherAI/gpt-neo-125M\")\n",
    "gpt_model.split_model_and_save(4, model)"
   ]
  },
  {
   "cell_type": "code",
   "execution_count": 44,
   "id": "a5abe8db-2555-432e-b227-4405abb079bc",
   "metadata": {},
   "outputs": [
    {
     "data": {
      "text/plain": [
       "tensor([1, 1, 1, 1, 1, 1, 1, 1], dtype=torch.int32)"
      ]
     },
     "execution_count": 44,
     "metadata": {},
     "output_type": "execute_result"
    }
   ],
   "source": [
    "t.ones((8,), device='cpu', dtype=t.int32)"
   ]
  },
  {
   "cell_type": "code",
   "execution_count": 46,
   "id": "a7e3d497-82c6-4f38-857c-7ffa1e4b4500",
   "metadata": {},
   "outputs": [],
   "source": [
    "x = t.tensor([-1, -1, -1, -1, -1, 1, 5, 7], dtype=t.int32)"
   ]
  },
  {
   "cell_type": "code",
   "execution_count": 63,
   "id": "ad6a5847-1323-478b-a186-a9d02e59cfbb",
   "metadata": {},
   "outputs": [
    {
     "data": {
      "text/plain": [
       "[1, 5, 7]"
      ]
     },
     "execution_count": 63,
     "metadata": {},
     "output_type": "execute_result"
    }
   ],
   "source": [
    "shape = x[x != -1].tolist()\n",
    "shape"
   ]
  },
  {
   "cell_type": "code",
   "execution_count": 65,
   "id": "9c8477e4-11f4-485e-aea4-13fe0205c017",
   "metadata": {},
   "outputs": [],
   "source": [
    "shape = t.randn(shape).shape"
   ]
  },
  {
   "cell_type": "code",
   "execution_count": 75,
   "id": "2fd8ef0b-c7a7-456c-9253-47b67c6cde19",
   "metadata": {},
   "outputs": [
    {
     "data": {
      "text/plain": [
       "[1, 6, 1, 8, 1]"
      ]
     },
     "execution_count": 75,
     "metadata": {},
     "output_type": "execute_result"
    }
   ],
   "source": [
    "t.randint(1, 10, (5,)).tolist()"
   ]
  },
  {
   "cell_type": "code",
   "execution_count": 69,
   "id": "ba4f5d80-be2c-4cbb-abbf-f4b3613db8f1",
   "metadata": {},
   "outputs": [
    {
     "data": {
      "text/plain": [
       "3"
      ]
     },
     "execution_count": 69,
     "metadata": {},
     "output_type": "execute_result"
    }
   ],
   "source": [
    "len(shape)"
   ]
  },
  {
   "cell_type": "code",
   "execution_count": 72,
   "id": "aab61c70-0c08-4c65-bd4a-aec36b068060",
   "metadata": {},
   "outputs": [
    {
     "data": {
      "text/plain": [
       "tensor([-1., -1., -1., -1., -1.,  1.,  5.,  7.])"
      ]
     },
     "execution_count": 72,
     "metadata": {},
     "output_type": "execute_result"
    }
   ],
   "source": [
    "shape_holder = -t.ones((8,))\n",
    "shape_holder[-len(shape):] = t.tensor(shape)\n",
    "shape_holder"
   ]
  },
  {
   "cell_type": "code",
   "execution_count": null,
   "id": "7e883770-fd7e-4795-bd6d-2727a8227cb7",
   "metadata": {},
   "outputs": [],
   "source": [
    "n_workers = 4\n",
    "[(a, b) for a in range(n_workers) if a != b]\n",
    "[(a, b) for a in range(n_workers) if a != b]"
   ]
  }
 ],
 "metadata": {
  "kernelspec": {
   "display_name": "Python 3 (ipykernel)",
   "language": "python",
   "name": "python3"
  },
  "language_info": {
   "codemirror_mode": {
    "name": "ipython",
    "version": 3
   },
   "file_extension": ".py",
   "mimetype": "text/x-python",
   "name": "python",
   "nbconvert_exporter": "python",
   "pygments_lexer": "ipython3",
   "version": "3.8.12"
  }
 },
 "nbformat": 4,
 "nbformat_minor": 5
}
