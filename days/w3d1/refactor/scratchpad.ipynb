{
 "cells": [
  {
   "cell_type": "code",
   "execution_count": 4,
   "id": "290e1138-5c34-4b3a-bcae-ac33f2105dea",
   "metadata": {},
   "outputs": [
    {
     "name": "stdout",
     "output_type": "stream",
     "text": [
      "The autoreload extension is already loaded. To reload it, use:\n",
      "  %reload_ext autoreload\n"
     ]
    }
   ],
   "source": [
    "%load_ext autoreload\n",
    "%autoreload 2\n",
    "import gpt_model\n",
    "import data\n",
    "import torch as t"
   ]
  },
  {
   "cell_type": "code",
   "execution_count": 126,
   "id": "f6c2ae1d-15de-471b-9b97-a3e72267fff7",
   "metadata": {},
   "outputs": [
    {
     "data": {
      "text/plain": [
       "[[], ['Linear', 'ReLU'], ['Linear', 'ReLU'], ['Linear', 'ReLU'], ['Linear']]"
      ]
     },
     "execution_count": 126,
     "metadata": {},
     "output_type": "execute_result"
    }
   ],
   "source": [
    "n_lin_layers, n_parts = 4, 5\n",
    "layers = ['Linear', 'ReLU'] * (n_lin_layers-1) + ['Linear']\n",
    "\n",
    "starts = 2*t.linspace(0, n_lin_layers, n_parts + 1).int()[:-1]\n",
    "ends = 2*t.linspace(0, n_lin_layers, n_parts + 1).int()[1:]\n",
    "\n",
    "models = [layers[s:e] for s, e in zip(starts, ends)]\n",
    "models"
   ]
  },
  {
   "cell_type": "code",
   "execution_count": 133,
   "id": "21a1bc47-fdc2-4779-937d-0a8d976e3100",
   "metadata": {},
   "outputs": [],
   "source": [
    "shape_holder = -t.ones((8,), dtype=t.int32)\n",
    "shape = t.tensor((1, 2, 3))"
   ]
  },
  {
   "cell_type": "code",
   "execution_count": 134,
   "id": "0de5ef00-dcfd-4e67-be18-65b1a313749e",
   "metadata": {},
   "outputs": [
    {
     "data": {
      "text/plain": [
       "tensor([-1, -1, -1, -1, -1, -1, -1, -1], dtype=torch.int32)"
      ]
     },
     "execution_count": 134,
     "metadata": {},
     "output_type": "execute_result"
    }
   ],
   "source": [
    "shape_holder"
   ]
  },
  {
   "cell_type": "code",
   "execution_count": 137,
   "id": "5ad3e17d-048d-4ea0-8986-e2ead11e8883",
   "metadata": {},
   "outputs": [],
   "source": [
    "shape_holder[-len(shape):] = shape\n",
    "shape_holder = shape_holder.clone()"
   ]
  },
  {
   "cell_type": "code",
   "execution_count": 138,
   "id": "becfcf34-2d55-4acc-9d9c-22abed9ccb55",
   "metadata": {},
   "outputs": [
    {
     "data": {
      "text/plain": [
       "[1, 2, 3]"
      ]
     },
     "execution_count": 138,
     "metadata": {},
     "output_type": "execute_result"
    }
   ],
   "source": [
    "shape_holder[shape_holder != -1].tolist()"
   ]
  },
  {
   "cell_type": "code",
   "execution_count": 128,
   "id": "9220c6b8-6786-48c0-a203-2eec92f5c8ed",
   "metadata": {},
   "outputs": [
    {
     "data": {
      "text/plain": [
       "torch.int64"
      ]
     },
     "execution_count": 128,
     "metadata": {},
     "output_type": "execute_result"
    }
   ],
   "source": [
    "t.arange(5,15).dtype"
   ]
  },
  {
   "cell_type": "code",
   "execution_count": 120,
   "id": "0b2669cd-6ee4-448b-9388-2d7127ac70cf",
   "metadata": {},
   "outputs": [
    {
     "data": {
      "text/plain": [
       "tensor([0, 1, 2, 3], dtype=torch.int32)"
      ]
     },
     "execution_count": 120,
     "metadata": {},
     "output_type": "execute_result"
    }
   ],
   "source": [
    "starts"
   ]
  },
  {
   "cell_type": "code",
   "execution_count": 111,
   "id": "c309836c-7023-45c9-b5de-bf2ce2c3d55f",
   "metadata": {},
   "outputs": [
    {
     "data": {
      "text/plain": [
       "[0, 5, 10, 15, 20, 25, 30, 35, 40, 45, 50, 55, 60, 65, 70, 75, 80, 85, 90, 95]"
      ]
     },
     "execution_count": 111,
     "metadata": {},
     "output_type": "execute_result"
    }
   ],
   "source": [
    "list(range(0, 100, 5))"
   ]
  },
  {
   "cell_type": "code",
   "execution_count": 79,
   "id": "779475ce-3eac-4fad-9f14-9bf8a58de66a",
   "metadata": {},
   "outputs": [
    {
     "name": "stdout",
     "output_type": "stream",
     "text": [
      "imdb\n"
     ]
    }
   ],
   "source": [
    "train, test = data.get_data(fake=True)"
   ]
  },
  {
   "cell_type": "code",
   "execution_count": 91,
   "id": "818040ab-21c1-4afe-ad7f-952344b8f2e0",
   "metadata": {},
   "outputs": [],
   "source": [
    "train, test= data.identity_data(32, 16, 10)"
   ]
  },
  {
   "cell_type": "code",
   "execution_count": 104,
   "id": "4ccd7f1e-7783-4164-89a5-dfa14f354d44",
   "metadata": {},
   "outputs": [],
   "source": [
    "x = t.tensor(10)"
   ]
  },
  {
   "cell_type": "code",
   "execution_count": 108,
   "id": "6671945f-039b-443d-a5e3-bf8051ce5060",
   "metadata": {},
   "outputs": [
    {
     "data": {
      "text/plain": [
       "tensor(True)"
      ]
     },
     "execution_count": 108,
     "metadata": {},
     "output_type": "execute_result"
    }
   ],
   "source": [
    "x == 10"
   ]
  },
  {
   "cell_type": "code",
   "execution_count": 99,
   "id": "226770e2-da6e-47dd-9832-7d6a6a02fb4c",
   "metadata": {},
   "outputs": [
    {
     "data": {
      "text/plain": [
       "torch.Size([32, 16])"
      ]
     },
     "execution_count": 99,
     "metadata": {},
     "output_type": "execute_result"
    }
   ],
   "source": [
    "test[0][0].shape"
   ]
  },
  {
   "cell_type": "code",
   "execution_count": 100,
   "id": "68f14c58-6564-4106-b420-ce94efc20f5e",
   "metadata": {},
   "outputs": [
    {
     "data": {
      "text/plain": [
       "torch.Size([32, 16])"
      ]
     },
     "execution_count": 100,
     "metadata": {},
     "output_type": "execute_result"
    }
   ],
   "source": [
    "test[0][1].shape"
   ]
  },
  {
   "cell_type": "code",
   "execution_count": 103,
   "id": "afc05e41-7103-47e3-87ac-8e36335ed471",
   "metadata": {},
   "outputs": [
    {
     "data": {
      "text/plain": [
       "tensor([-1, -1, -1, -1, -1, -1, -1, -1, -1, -1, -1, -1, -1, -1, -1, -1, -1, -1,\n",
       "        -1, -1, -1, -1, -1, -1, -1, -1, -1, -1, -1, -1, -1, -1],\n",
       "       dtype=torch.int32)"
      ]
     },
     "execution_count": 103,
     "metadata": {},
     "output_type": "execute_result"
    }
   ],
   "source": [
    "test[0][2]"
   ]
  },
  {
   "cell_type": "code",
   "execution_count": 82,
   "id": "77d96830-8408-424e-a85f-80e70fe438b9",
   "metadata": {},
   "outputs": [
    {
     "data": {
      "text/plain": [
       "tensor([[ -64, -189,  -35,  236, -203],\n",
       "        [ 175,  -28, -241,  -83,  105],\n",
       "        [  25,   51, -143, -167, -118],\n",
       "        [ 175,  173,  114,  -66,  -64],\n",
       "        [  18,  -12,  144,  154,  152],\n",
       "        [ -60,  234,  109, -190,  182],\n",
       "        [ 119,   40,  223,   25,    2],\n",
       "        [ -64, -247,  180,   38,   47],\n",
       "        [ 184,  -75,   77, -164,   32],\n",
       "        [ -42, -105, -256, -145,  226]])"
      ]
     },
     "execution_count": 82,
     "metadata": {},
     "output_type": "execute_result"
    }
   ],
   "source": [
    "t.randint(-256, 256, (10,5))"
   ]
  },
  {
   "cell_type": "code",
   "execution_count": 78,
   "id": "89b43193-3c8e-4431-94e6-4771b625ffdb",
   "metadata": {},
   "outputs": [
    {
     "data": {
      "text/plain": [
       "torch.Size([32])"
      ]
     },
     "execution_count": 78,
     "metadata": {},
     "output_type": "execute_result"
    }
   ],
   "source": [
    "x[0][2].shape"
   ]
  },
  {
   "cell_type": "code",
   "execution_count": 28,
   "id": "2490204f-19a2-4ef5-bedc-cfabc12e9343",
   "metadata": {},
   "outputs": [],
   "source": [
    "for batch in train:\n",
    "    assert len(list(zip(*batch))) == 3\n",
    "    # break"
   ]
  },
  {
   "cell_type": "code",
   "execution_count": 19,
   "id": "97066db9-9d96-45db-8360-9411bcf04127",
   "metadata": {},
   "outputs": [
    {
     "data": {
      "text/plain": [
       "[1, 2, 3, 4, 5, 6]"
      ]
     },
     "execution_count": 19,
     "metadata": {},
     "output_type": "execute_result"
    }
   ],
   "source": [
    "c = [[1, 2], [3, 4], [5, 6]]\n",
    "[a for b in c for a in b]"
   ]
  },
  {
   "cell_type": "code",
   "execution_count": 12,
   "id": "a9c66200-ac52-412b-b6d9-9f96929a505e",
   "metadata": {},
   "outputs": [
    {
     "data": {
      "text/plain": [
       "tensor([0, 1, 1, 0, 1, 0, 0, 1, 1, 0, 0, 0, 0, 1, 0, 1, 1, 1, 0, 0, 1, 1, 0, 1,\n",
       "        0, 0, 0, 0, 0, 1, 0, 1], dtype=torch.int32)"
      ]
     },
     "execution_count": 13,
     "metadata": {},
     "output_type": "execute_result"
    }
   ],
   "source": [
    "t.tensor(sents, dtype=t.int32)"
   ]
  },
  {
   "cell_type": "code",
   "execution_count": 34,
   "id": "14c34b8f-e054-44a5-9c73-d7ebda0250e2",
   "metadata": {},
   "outputs": [
    {
     "data": {
      "text/plain": [
       "tensor(50256)"
      ]
     },
     "execution_count": 34,
     "metadata": {},
     "output_type": "execute_result"
    }
   ],
   "source": [
    "train[0][1][1][380]"
   ]
  },
  {
   "cell_type": "code",
   "execution_count": null,
   "id": "5801be3d-0304-4681-84ba-a936332368e6",
   "metadata": {},
   "outputs": [],
   "source": [
    "model = gpt_model.transformers.AutoModelForSequenceClassification.from_pretrained(\"EleutherAI/gpt-neo-125M\")\n",
    "gpt_model.split_model_and_save(4, model)"
   ]
  },
  {
   "cell_type": "code",
   "execution_count": null,
   "id": "a5abe8db-2555-432e-b227-4405abb079bc",
   "metadata": {},
   "outputs": [],
   "source": [
    "t.ones((8,), device='cpu', dtype=t.int32)"
   ]
  },
  {
   "cell_type": "code",
   "execution_count": null,
   "id": "a7e3d497-82c6-4f38-857c-7ffa1e4b4500",
   "metadata": {},
   "outputs": [],
   "source": [
    "x = t.tensor([-1, -1, -1, -1, -1, 1, 5, 7], dtype=t.int32)"
   ]
  },
  {
   "cell_type": "code",
   "execution_count": null,
   "id": "ad6a5847-1323-478b-a186-a9d02e59cfbb",
   "metadata": {},
   "outputs": [],
   "source": [
    "shape = x[x != -1].tolist()\n",
    "shape"
   ]
  },
  {
   "cell_type": "code",
   "execution_count": null,
   "id": "9c8477e4-11f4-485e-aea4-13fe0205c017",
   "metadata": {},
   "outputs": [],
   "source": [
    "shape = t.randn(shape).shape"
   ]
  },
  {
   "cell_type": "code",
   "execution_count": null,
   "id": "2fd8ef0b-c7a7-456c-9253-47b67c6cde19",
   "metadata": {},
   "outputs": [],
   "source": [
    "t.randint(1, 10, (5,)).tolist()"
   ]
  },
  {
   "cell_type": "code",
   "execution_count": null,
   "id": "ba4f5d80-be2c-4cbb-abbf-f4b3613db8f1",
   "metadata": {},
   "outputs": [],
   "source": [
    "len(shape)"
   ]
  },
  {
   "cell_type": "code",
   "execution_count": null,
   "id": "aab61c70-0c08-4c65-bd4a-aec36b068060",
   "metadata": {},
   "outputs": [],
   "source": [
    "shape_holder = -t.ones((8,))\n",
    "shape_holder[-len(shape):] = t.tensor(shape)\n",
    "shape_holder"
   ]
  },
  {
   "cell_type": "code",
   "execution_count": null,
   "id": "7e883770-fd7e-4795-bd6d-2727a8227cb7",
   "metadata": {},
   "outputs": [],
   "source": [
    "n_workers = 4\n",
    "[(a, b) for a in range(n_workers) if a != b]\n",
    "[(a, b) for a in range(n_workers) if a != b]"
   ]
  }
 ],
 "metadata": {
  "kernelspec": {
   "display_name": "Python 3 (ipykernel)",
   "language": "python",
   "name": "python3"
  },
  "language_info": {
   "codemirror_mode": {
    "name": "ipython",
    "version": 3
   },
   "file_extension": ".py",
   "mimetype": "text/x-python",
   "name": "python",
   "nbconvert_exporter": "python",
   "pygments_lexer": "ipython3",
   "version": "3.8.12"
  }
 },
 "nbformat": 4,
 "nbformat_minor": 5
}
