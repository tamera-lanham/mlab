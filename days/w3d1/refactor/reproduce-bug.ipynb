{
 "cells": [
  {
   "cell_type": "code",
   "execution_count": 1,
   "id": "c6258a3f-4f99-40d6-8376-2a00641f3615",
   "metadata": {},
   "outputs": [],
   "source": [
    "import torch as t\n",
    "\n",
    "init_model = lambda: t.nn.Sequential(t.nn.Linear(16, 128), t.nn.ReLU(), t.nn.Linear(128, 16))\n",
    "data = lambda n_batches: [t.randn((32, 16)) for _ in range(n_batches)]"
   ]
  },
  {
   "cell_type": "code",
   "execution_count": null,
   "id": "b00bf707-6037-4dcf-b966-569ee99e0ed2",
   "metadata": {},
   "outputs": [],
   "source": [
    "import torch as t\n",
    "\n",
    "init_model = lambda: t.nn.Sequential(t.nn.Linear(16, 128), t.nn.ReLU(), t.nn.Linear(128, 16))\n",
    "data = lambda n_batches: [t.randn((32, 16)) for _ in range(n_batches)]\n",
    "\n",
    "############### Forward pass ###############\n",
    "\n",
    "model = init_model()\n",
    "data_batches = data(n_batches = 2)\n",
    "\n",
    "stored_outputs = []\n",
    "for i, inputs in enumerate(data_batches):\n",
    "    stored_outputs.append(model(inputs))\n",
    "    \n",
    "############### Backward pass ##############\n",
    "\n",
    "loss_fn = t.nn.MSELoss()\n",
    "optimizer = t.optim.SGD(model.parameters(), 0.1)\n",
    "\n",
    "for i, targets in enumerate(data_batches):\n",
    "    optimizer.zero_grad()\n",
    "    outputs = stored_outputs[i]\n",
    "    loss = loss_fn(targets, outputs)\n",
    "    loss.backward()\n",
    "    optimizer.step()"
   ]
  },
  {
   "cell_type": "markdown",
   "id": "cb8a2229-b4fe-4609-8e89-06cc43a0bebc",
   "metadata": {},
   "source": [
    "I think the problem is related to the saved tensors on the graph. The best source of info I've found about this is here:\n",
    "\n",
    "https://pytorch.org/tutorials/intermediate/autograd_saved_tensors_hooks_tutorial.html\n",
    "\n",
    "The hacky fix is just to re-run the forward pass each time before running the backward pass to repopulate the saved tensors correctly. There's probably a better fix that involves packing, saving, and unpacking the saved tensors appropriately for each microbatch."
   ]
  },
  {
   "cell_type": "code",
   "execution_count": null,
   "id": "8d31bd18-ca24-4df6-9029-0ae8cbc8f27a",
   "metadata": {},
   "outputs": [],
   "source": [
    "x = data_batches[0]\n",
    "outputs = model(x)\n",
    "loss = loss_fn(x, outputs)\n",
    "\n",
    "# This is one of the secret stateful tensors that stick around in the computation graph\n",
    "loss.grad_fn._saved_self[:5]"
   ]
  },
  {
   "cell_type": "code",
   "execution_count": null,
   "id": "48f49079-b85c-4ae6-a8fa-ad3107127a7f",
   "metadata": {},
   "outputs": [],
   "source": [
    "# Here's another one\n",
    "loss.grad_fn.next_functions[1][0]._saved_mat1"
   ]
  },
  {
   "cell_type": "markdown",
   "id": "b7e07d74-9d54-433a-86aa-bc19f24dc332",
   "metadata": {},
   "source": [
    "---\n",
    "\n",
    "### Trying to fix the problem with `t.autograd.graph.saved_tensors_hooks`"
   ]
  },
  {
   "cell_type": "code",
   "execution_count": 29,
   "id": "bc44dcc0-7383-444c-8bf4-0e3fa4cc1768",
   "metadata": {},
   "outputs": [
    {
     "data": {
      "image/png": "[encoded data removed]",
      "text/plain": [
       "<Figure size 432x288 with 1 Axes>"
      ]
     },
     "metadata": {
      "needs_background": "light"
     },
     "output_type": "display_data"
    }
   ],
   "source": [
    "import matplotlib.pyplot as plt\n",
    "\n",
    "pack_order, unpack_order = {}, {}\n",
    "storage = []\n",
    "def pack(x):\n",
    "    storage.append(x)\n",
    "    pack_order.append(len(storage) - 1)\n",
    "    return len(storage) - 1\n",
    "\n",
    "def unpack(x):\n",
    "    unpack_order.append(x)\n",
    "    return storage[x]\n",
    "\n",
    "############### Forward pass ###############\n",
    "\n",
    "model = init_model()\n",
    "model_state = model.state_dict()\n",
    "\n",
    "model = init_model()\n",
    "model.load_state_dict(model_state) # Weird that this needs to happen but ok\n",
    "\n",
    "data_batches = data(n_batches = 2)\n",
    "\n",
    "stored_outputs = {}\n",
    "for i, inputs in enumerate(data_batches):\n",
    "    with t.autograd.graph.saved_tensors_hooks(pack, unpack): # This is the new line\n",
    "        outputs = model(inputs)\n",
    "    stored_outputs[i] = outputs\n",
    "\n",
    "############### Backward pass ##############\n",
    "\n",
    "loss_fn = t.nn.MSELoss()\n",
    "optimizer = t.optim.SGD(model.parameters(), 0.1)\n",
    "losses = []\n",
    "\n",
    "for i, targets in enumerate(data_batches):\n",
    "    optimizer.zero_grad()\n",
    "    outputs = stored_outputs[i]\n",
    "    with t.autograd.graph.saved_tensors_hooks(pack, unpack):\n",
    "        loss = loss_fn(targets, outputs)\n",
    "    loss.backward()\n",
    "    optimizer.step()\n",
    "    losses.append(loss.detach())\n",
    "\n",
    "plt.plot(losses); # No error, but it doesn't seem to be training either"
   ]
  },
  {
   "cell_type": "code",
   "execution_count": 30,
   "id": "caeff355-c26e-4308-a6d8-d10d0382435c",
   "metadata": {},
   "outputs": [
    {
     "data": {
      "image/png": "[encoded data removed]",
      "text/plain": [
       "<Figure size 432x288 with 1 Axes>"
      ]
     },
     "metadata": {
      "needs_background": "light"
     },
     "output_type": "display_data"
    }
   ],
   "source": [
    "# Let's compare the storage against what it should be\n",
    "\n",
    "pack_order_2, unpack_order_2 = [], []\n",
    "storage_2 = []\n",
    "def pack_2(x):\n",
    "    storage_2.append(x)\n",
    "    pack_order_2.append(len(storage_2) - 1)\n",
    "    return len(storage_2) - 1\n",
    "\n",
    "def unpack_2(x):\n",
    "    unpack_order_2.append(x)\n",
    "    return storage_2[x]\n",
    "\n",
    "model = init_model()\n",
    "model.load_state_dict(model_state)\n",
    "\n",
    "loss_fn = t.nn.MSELoss()\n",
    "optimizer = t.optim.SGD(model.parameters(), 0.1)\n",
    "stored_outputs_2= {}\n",
    "losses= []\n",
    "for i, inputs in enumerate(data_batches):\n",
    "    optimizer.zero_grad()\n",
    "    with t.autograd.graph.saved_tensors_hooks(pack_2, unpack_2):\n",
    "        outputs = model(inputs)\n",
    "        loss = loss_fn(outputs, inputs)\n",
    "    stored_outputs_2[i] = outputs\n",
    "    loss.backward()\n",
    "    optimizer.step()\n",
    "    losses.append(loss.detach())\n",
    "plt.plot(losses);"
   ]
  },
  {
   "cell_type": "code",
   "execution_count": 31,
   "id": "0fce2e92-da34-40eb-8bcd-6d30c441d285",
   "metadata": {},
   "outputs": [
    {
     "data": {
      "text/plain": [
       "[tensor(1.2407, grad_fn=<SumBackward0>),\n",
       " tensor(5.9865, grad_fn=<SumBackward0>)]"
      ]
     },
     "execution_count": 31,
     "metadata": {},
     "output_type": "execute_result"
    }
   ],
   "source": [
    "[o.sum() for i, o in stored_outputs.items()]"
   ]
  },
  {
   "cell_type": "code",
   "execution_count": 32,
   "id": "263c7649-ac92-433c-bffc-7263c98bcfd5",
   "metadata": {},
   "outputs": [
    {
     "data": {
      "text/plain": [
       "[tensor(1.2407, grad_fn=<SumBackward0>),\n",
       " tensor(7.7783, grad_fn=<SumBackward0>)]"
      ]
     },
     "execution_count": 32,
     "metadata": {},
     "output_type": "execute_result"
    }
   ],
   "source": [
    "[o.sum() for i, o in stored_outputs_2.items()]"
   ]
  },
  {
   "cell_type": "code",
   "execution_count": 35,
   "id": "7f299563-1f0a-4383-8326-79c47ef4643d",
   "metadata": {},
   "outputs": [
    {
     "data": {
      "text/plain": [
       "([0, 1, 2, 3, 4, 5, 6, 7, 8, 9, 10, 11],\n",
       " [0, 1, 2, 3, 4, 5, 6, 7, 8, 9, 10, 11])"
      ]
     },
     "execution_count": 35,
     "metadata": {},
     "output_type": "execute_result"
    }
   ],
   "source": [
    "pack_order, pack_order_2"
   ]
  },
  {
   "cell_type": "code",
   "execution_count": 36,
   "id": "b0e15750-fe00-4c8a-b862-aa4e2f13b504",
   "metadata": {},
   "outputs": [
    {
     "data": {
      "text/plain": [
       "([8, 9, 2, 3, 1, 0, 10, 11, 6, 7, 5, 4],\n",
       " [4, 5, 2, 3, 1, 0, 10, 11, 8, 9, 7, 6])"
      ]
     },
     "execution_count": 36,
     "metadata": {},
     "output_type": "execute_result"
    }
   ],
   "source": [
    "unpack_order, unpack_order_2"
   ]
  },
  {
   "cell_type": "code",
   "execution_count": 38,
   "id": "caee174b-4a40-455a-8bf9-5b3ffd8ab6f6",
   "metadata": {},
   "outputs": [
    {
     "data": {
      "text/plain": [
       "[True, True, True, True, True, False, False, True, False, False, True, True]"
      ]
     },
     "execution_count": 38,
     "metadata": {},
     "output_type": "execute_result"
    }
   ],
   "source": [
    "[storage[i].shape == (storage_2[i].shape) for i in range(len(storage))]"
   ]
  },
  {
   "cell_type": "code",
   "execution_count": 39,
   "id": "e89b2d6c-216d-497c-bd67-f91c256a9108",
   "metadata": {},
   "outputs": [
    {
     "data": {
      "text/plain": [
       "[True,\n",
       " True,\n",
       " False,\n",
       " True,\n",
       " False,\n",
       " False,\n",
       " False,\n",
       " False,\n",
       " False,\n",
       " False,\n",
       " False,\n",
       " False]"
      ]
     },
     "execution_count": 39,
     "metadata": {},
     "output_type": "execute_result"
    }
   ],
   "source": [
    "[storage[i].equal(storage_2[i]) for i in range(len(storage))]"
   ]
  },
  {
   "cell_type": "code",
   "execution_count": null,
   "id": "46e7fbb9-fa89-4f4f-b311-335e0ac2e3b1",
   "metadata": {},
   "outputs": [],
   "source": [
    "storage[0].shape, storage_2[0].shape"
   ]
  },
  {
   "cell_type": "markdown",
   "id": "3575cf7c-3198-4095-8546-8a009d5552d7",
   "metadata": {},
   "source": [
    "Let's try something even simpler"
   ]
  },
  {
   "cell_type": "code",
   "execution_count": null,
   "id": "d56e950e-6b97-4225-8708-1369c3a3f18f",
   "metadata": {},
   "outputs": [],
   "source": [
    "storage = []\n",
    "def pack(x):\n",
    "    storage.append(x)\n",
    "    return len(storage) - 1\n",
    "\n",
    "def unpack(x):\n",
    "    return storage[x]\n",
    "    return t.tensor(42)\n",
    "\n",
    "batch, n = 10, 5\n",
    "X = t.randint(0, 64, (batch, n)).float()\n",
    "y = t.randn((n,)) * X\n",
    "w = t.randn((n,), requires_grad=True)\n",
    "\n",
    "with t.autograd.graph.saved_tensors_hooks(pack, unpack):\n",
    "    y_pred = w * X\n",
    "    loss = ((y_pred - y).square()).mean()\n",
    "\n",
    "loss.grad_fn.next_functions[0][0]._saved_self"
   ]
  },
  {
   "cell_type": "code",
   "execution_count": null,
   "id": "fd34c162-748d-49c1-a141-d7c887d64939",
   "metadata": {},
   "outputs": [],
   "source": [
    "get_saved_tensors(loss.grad_fn)"
   ]
  },
  {
   "cell_type": "code",
   "execution_count": null,
   "id": "15ceae8b-9d0b-48e7-81bc-405c244eb0b6",
   "metadata": {},
   "outputs": [],
   "source": []
  },
  {
   "cell_type": "code",
   "execution_count": null,
   "id": "22197855-5000-4e5c-9000-670c34b2935e",
   "metadata": {},
   "outputs": [],
   "source": [
    "import torch as t\n",
    "\n",
    "def fns_set(grad_fn): # Returns the set of all backwards functions in the graph\n",
    "    if not hasattr(grad_fn, 'next_functions'): return grad_fn\n",
    "    return {grad_fn}.union(*(fns_set(fn) for fn, _ in grad_fn.next_functions if fn is not None))\n",
    "\n",
    "def get_saved_tensors(grad_fn):\n",
    "    return {\n",
    "        fn: {attr: getattr(fn, attr) for attr in dir(fn) if attr.startswith('_saved')}\n",
    "        for fn in fns_set(grad_fn)\n",
    "    }\n",
    "\n",
    "batch, n = 10, 5\n",
    "X = t.randint(0, 64, (batch, n)).float()\n",
    "y = t.randn((n,)) * X\n",
    "\n",
    "w = t.randn((n,), requires_grad=True)\n",
    "y_pred = w * X\n",
    "loss = ((y_pred - y).square()).mean()\n",
    "\n",
    "get_saved_tensors(loss.grad_fn)"
   ]
  },
  {
   "cell_type": "code",
   "execution_count": null,
   "id": "7dceda6b-73e1-402a-9361-6f9180962561",
   "metadata": {},
   "outputs": [],
   "source": [
    "batch, n = 3, 5\n",
    "X = t.randint(0, 64, (batch, n)).float()\n",
    "y = t.randn((n,)) * X\n",
    "\n",
    "w = t.randn((n,), requires_grad=True)\n",
    "\n",
    "storage = []\n",
    "def pack(x):\n",
    "    storage.append(x)\n",
    "    return len(storage) - 1\n",
    "\n",
    "def unpack(x):\n",
    "    print('Unpacking %d' % x)\n",
    "    return storage[x]\n",
    "\n",
    "with t.autograd.graph.saved_tensors_hooks(pack, unpack):\n",
    "    y_pred = w * X\n",
    "    loss = ((y_pred - y).square()).mean()\n",
    "\n",
    "loss.backward()\n",
    "    \n",
    "storage"
   ]
  },
  {
   "cell_type": "markdown",
   "id": "a0445d78-87cf-4515-81d6-1d7d29bf861c",
   "metadata": {},
   "source": [
    "---\n",
    "\n",
    "### Trying to understand the computational graph better\n",
    "- Where are `saved_tensor`s stored? Can I see them in their packed form?\n",
    "- How do the various `grad_fn`s and `next_functions` correspond with the forwards graph?"
   ]
  },
  {
   "cell_type": "code",
   "execution_count": null,
   "id": "333aa8c7-1f4a-486d-be48-416966f8cfaa",
   "metadata": {},
   "outputs": [],
   "source": [
    "keys = {}\n",
    "def get_tree(grad_fn):\n",
    "    \n",
    "    if grad_fn not in keys:\n",
    "        keys[grad_fn] = max(keys.values(), default=0) + 1\n",
    "        \n",
    "    if not hasattr(grad_fn, 'next_functions'): return keys[grad_fn]\n",
    "    \n",
    "    result = {}\n",
    "    for fn, _ in grad_fn.next_functions:\n",
    "        if fn is not None:\n",
    "            result[keys[fn]] = get_tree(fn) \n",
    "    return result\n",
    "\n",
    "def get_tree(grad_fn):\n",
    "    if not hasattr(grad_fn, 'next_functions'): return grad_fn\n",
    "    return {fn: get_tree(fn) for fn, _ in grad_fn.next_functions if fn is not None}\n",
    "\n",
    "tree = get_tree(loss.grad_fn)\n",
    "print(tree)"
   ]
  },
  {
   "cell_type": "code",
   "execution_count": null,
   "id": "9f0636d1-b8d9-42d5-9cef-40369ea4b0fc",
   "metadata": {},
   "outputs": [],
   "source": [
    "k = list(keys.keys())\n",
    "k"
   ]
  },
  {
   "cell_type": "markdown",
   "id": "7fa26dd6-5955-44e4-b05a-c3f5b2a0082a",
   "metadata": {},
   "source": [
    "---\n",
    "\n",
    "### Sanity check: this training regime should work, right?"
   ]
  },
  {
   "cell_type": "code",
   "execution_count": null,
   "id": "e5617265-cb22-49bc-8dbe-1fb0f4fde646",
   "metadata": {},
   "outputs": [],
   "source": [
    "import torch as t\n",
    "import matplotlib.pyplot as plt\n",
    "\n",
    "model = t.nn.Sequential(t.nn.Linear(16, 128), t.nn.ReLU(), t.nn.Linear(128, 16))\n",
    "\n",
    "batch_size, n_batches = 128, 500\n",
    "data_batches = [t.randn((batch_size, 16)) for _ in range(n_batches)]\n",
    "\n",
    "loss_fn = t.nn.MSELoss()\n",
    "optimizer = t.optim.SGD(model.parameters(), 0.1)\n",
    "losses= []\n",
    "for i, inputs in enumerate(data_batches):\n",
    "    optimizer.zero_grad()\n",
    "    outputs = model(inputs)\n",
    "    loss = loss_fn(outputs, inputs)\n",
    "    loss.backward()\n",
    "    optimizer.step()\n",
    "    losses.append(loss.detach())\n",
    "plt.plot(losses);"
   ]
  },
  {
   "cell_type": "code",
   "execution_count": null,
   "id": "400f6a9d-96b6-42e6-a487-236fd652c2f1",
   "metadata": {},
   "outputs": [],
   "source": []
  }
 ],
 "metadata": {
  "kernelspec": {
   "display_name": "Python 3 (ipykernel)",
   "language": "python",
   "name": "python3"
  },
  "language_info": {
   "codemirror_mode": {
    "name": "ipython",
    "version": 3
   },
   "file_extension": ".py",
   "mimetype": "text/x-python",
   "name": "python",
   "nbconvert_exporter": "python",
   "pygments_lexer": "ipython3",
   "version": "3.8.12"
  }
 },
 "nbformat": 4,
 "nbformat_minor": 5
}
