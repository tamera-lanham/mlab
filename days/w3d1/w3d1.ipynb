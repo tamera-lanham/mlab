{
 "cells": [
  {
   "cell_type": "code",
   "execution_count": null,
   "metadata": {},
   "outputs": [],
   "source": []
  },
  {
   "cell_type": "code",
   "execution_count": 1,
   "metadata": {},
   "outputs": [],
   "source": [
    "import transformers\n",
    "import torch as t\n",
    "import torchvision\n",
    "import einops"
   ]
  },
  {
   "cell_type": "code",
   "execution_count": 2,
   "metadata": {},
   "outputs": [
    {
     "name": "stderr",
     "output_type": "stream",
     "text": [
      "Some weights of the model checkpoint at EleutherAI/gpt-j-6B were not used when initializing GPTJForSequenceClassification: ['lm_head.bias', 'lm_head.weight']\n",
      "- This IS expected if you are initializing GPTJForSequenceClassification from the checkpoint of a model trained on another task or with another architecture (e.g. initializing a BertForSequenceClassification model from a BertForPreTraining model).\n",
      "- This IS NOT expected if you are initializing GPTJForSequenceClassification from the checkpoint of a model that you expect to be exactly identical (initializing a BertForSequenceClassification model from a BertForSequenceClassification model).\n",
      "Some weights of GPTJForSequenceClassification were not initialized from the model checkpoint at EleutherAI/gpt-j-6B and are newly initialized: ['score.weight']\n",
      "You should probably TRAIN this model on a down-stream task to be able to use it for predictions and inference.\n"
     ]
    }
   ],
   "source": [
    "gpt_model = transformers.AutoModelForSequenceClassification.from_pretrained(\"EleutherAI/gpt-j-6B\")"
   ]
  },
  {
   "cell_type": "code",
   "execution_count": 3,
   "metadata": {},
   "outputs": [],
   "source": [
    "n_gpus = 8\n",
    "\n",
    "class BlockWrapper(t.nn.Module):\n",
    "    def __init__(self, gpt_block):\n",
    "        super().__init__()\n",
    "        self.model = gpt_block\n",
    "    \n",
    "    def forward(self, inputs):\n",
    "        activations, *_ = self.model(inputs)\n",
    "        return activations\n",
    "\n",
    "def split_model(model, n_gpus):\n",
    "    starts = t.linspace(0, 28, n_gpus + 1).int()[:-1] # Starting index of each section\n",
    "    ends = t.linspace(0, 28, n_gpus + 1).int()[1:]\n",
    "    blocks = [BlockWrapper(block) for block in model.transformer.h]\n",
    "    gpt_block_sections = [t.nn.Sequential(*blocks[start:end]) for start, end in zip(starts, ends)]\n",
    "\n",
    "    first = t.nn.Sequential(\n",
    "        model.transformer.wte,\n",
    "        model.transformer.drop,\n",
    "        gpt_block_sections[0]\n",
    "    )\n",
    "\n",
    "    last = t.nn.Sequential(\n",
    "        gpt_block_sections[-1],\n",
    "        model.transformer.ln_f,\n",
    "        model.score\n",
    "    )\n",
    "\n",
    "    models = [first] + gpt_block_sections[1:-1] + [last]\n",
    "    return models\n"
   ]
  },
  {
   "cell_type": "code",
   "execution_count": 4,
   "metadata": {},
   "outputs": [],
   "source": [
    "models = split_model(gpt_model, n_gpus)\n",
    "for i, model in enumerate(models):\n",
    "    t.save(model, 'gpt-j-%d.pt' % i)"
   ]
  },
  {
   "cell_type": "code",
   "execution_count": null,
   "metadata": {},
   "outputs": [],
   "source": [
    "inputs_list[0].shape"
   ]
  },
  {
   "cell_type": "code",
   "execution_count": null,
   "metadata": {},
   "outputs": [],
   "source": [
    "a = models[0](inputs_list)\n",
    "b = models[1](a)\n",
    "c = models[2](b)\n",
    "d = models[3](c)"
   ]
  },
  {
   "cell_type": "code",
   "execution_count": null,
   "metadata": {},
   "outputs": [],
   "source": [
    "[x.shape for x in (a,b,c,d)]"
   ]
  },
  {
   "cell_type": "code",
   "execution_count": null,
   "metadata": {},
   "outputs": [],
   "source": [
    "fpo = [t.randn(10, 512, 2) for i in range(5)]"
   ]
  },
  {
   "cell_type": "code",
   "execution_count": null,
   "metadata": {},
   "outputs": [],
   "source": [
    "t.cat(fpo, 0).shape"
   ]
  },
  {
   "cell_type": "code",
   "execution_count": null,
   "metadata": {},
   "outputs": [],
   "source": [
    "tokenizer = transformers.AutoTokenizer.from_pretrained(\"EleutherAI/gpt-j-6B\")\n"
   ]
  },
  {
   "cell_type": "code",
   "execution_count": null,
   "metadata": {},
   "outputs": [],
   "source": [
    "tokenizer.special_tokens_map"
   ]
  },
  {
   "cell_type": "code",
   "execution_count": null,
   "metadata": {},
   "outputs": [],
   "source": [
    "tokenizer = transformers.AutoTokenizer.from_pretrained(\"EleutherAI/gpt-j-6B\")\n",
    "\n",
    "input_texts = [\n",
    "    \"Should Tamera refactor the code? Answer: \",\n",
    "    \"Some other text! Longer now\",\n",
    "    \"Happy happy happy sad sad sad\",\n",
    "    \"happy glad excited thrilled ecstatic\",\n",
    "    \"sad blue bummed glum low\"\n",
    "]\n",
    "input_texts = [\n",
    "    \"Should Tamera refactor the code? Answer: \",\n",
    "    \"Should Tamera refactor the code? Answer: \",\n",
    "]\n",
    "\n",
    "inputs_list = [t.Tensor(text).int().unsqueeze(0) for text in tokenizer(input_texts)['input_ids']]\n",
    "\n",
    "for i, inputs in enumerate(inputs_list):\n",
    "\n",
    "    original_output = gpt_model(inputs).logits # (1, 2)\n",
    "\n",
    "    our_model = t.nn.Sequential(*models)\n",
    "    our_output = our_model(inputs)[:,-1]\n",
    "    \n",
    "    if i in (3, 4):\n",
    "        print(our_output)\n",
    "\n",
    "    assert original_output.equal(our_output)"
   ]
  },
  {
   "cell_type": "code",
   "execution_count": null,
   "metadata": {},
   "outputs": [],
   "source": [
    "a, b = t.tensor([1, 2])"
   ]
  },
  {
   "cell_type": "code",
   "execution_count": null,
   "metadata": {},
   "outputs": [],
   "source": [
    "a"
   ]
  },
  {
   "cell_type": "code",
   "execution_count": null,
   "metadata": {},
   "outputs": [],
   "source": [
    "%load_ext autoreload\n",
    "%autoreload 2\n",
    "\n",
    "from utils import *"
   ]
  },
  {
   "cell_type": "code",
   "execution_count": null,
   "metadata": {},
   "outputs": [],
   "source": [
    "#train, test = imdb_data()\n",
    "\n",
    "fake_train, fake_test = fake_imdb_data(n_batches = 100)"
   ]
  },
  {
   "cell_type": "code",
   "execution_count": null,
   "metadata": {},
   "outputs": [],
   "source": [
    "def label_to_tensor(label): \n",
    "    if label == 0:\n",
    "        return t.Tensor([0, 1])\n",
    "    else: \n",
    "        return t.Tensor([1, 0])\n",
    "\n",
    "def preprocess_batch(batch):\n",
    "    labels, inputs = zip(*batch)\n",
    "    labels = t.stack([label_to_tensor(label) for label in labels])\n",
    "    return (labels, inputs)"
   ]
  },
  {
   "cell_type": "code",
   "execution_count": null,
   "metadata": {},
   "outputs": [],
   "source": [
    "l, i = preprocess_batch(fake_train[0])"
   ]
  },
  {
   "cell_type": "code",
   "execution_count": null,
   "metadata": {},
   "outputs": [],
   "source": [
    "l.shape"
   ]
  },
  {
   "cell_type": "code",
   "execution_count": null,
   "metadata": {},
   "outputs": [],
   "source": [
    "len(train), len(train[0]), type(train[0][0][0]), train[0][0][1].shape, train[0][0][1].dtype"
   ]
  },
  {
   "cell_type": "code",
   "execution_count": null,
   "metadata": {},
   "outputs": [],
   "source": [
    "len(fake_train), len(fake_train[0]), type(fake_train[0][0][0]), fake_train[0][0][1].shape, fake_train[0][0][1].dtype"
   ]
  },
  {
   "cell_type": "code",
   "execution_count": null,
   "metadata": {},
   "outputs": [],
   "source": [
    "train[0][0][1].device"
   ]
  },
  {
   "cell_type": "code",
   "execution_count": null,
   "metadata": {},
   "outputs": [],
   "source": []
  }
 ],
 "metadata": {
  "kernelspec": {
   "display_name": "Python 3",
   "language": "python",
   "name": "python3"
  },
  "language_info": {
   "codemirror_mode": {
    "name": "ipython",
    "version": 3
   },
   "file_extension": ".py",
   "mimetype": "text/x-python",
   "name": "python",
   "nbconvert_exporter": "python",
   "pygments_lexer": "ipython3",
   "version": "3.8.5"
  }
 },
 "nbformat": 4,
 "nbformat_minor": 4
}
