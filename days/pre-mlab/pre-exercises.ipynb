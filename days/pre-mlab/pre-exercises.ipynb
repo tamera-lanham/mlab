{
 "cells": [
  {
   "cell_type": "code",
   "execution_count": 41,
   "id": "77f5102a-0a96-433f-ac7a-db1536b9cc8a",
   "metadata": {},
   "outputs": [],
   "source": [
    "from einops import *\n",
    "import torch as t"
   ]
  },
  {
   "cell_type": "markdown",
   "id": "cec7074a-8397-4129-adc3-073f461d4949",
   "metadata": {},
   "source": [
    "# 1"
   ]
  },
  {
   "cell_type": "code",
   "execution_count": 42,
   "id": "5392b928-3e3f-497f-9fe2-8d779d2ae0af",
   "metadata": {},
   "outputs": [
    {
     "data": {
      "text/plain": [
       "tensor([[3, 4],\n",
       "        [5, 6],\n",
       "        [7, 8]])"
      ]
     },
     "execution_count": 42,
     "metadata": {},
     "output_type": "execute_result"
    }
   ],
   "source": [
    "tensor = t.arange(3, 9)\n",
    "rearrange(tensor, '(b1 b2) -> b1 b2', b1=3)"
   ]
  },
  {
   "cell_type": "code",
   "execution_count": 43,
   "id": "bd1ba78c-efd0-4671-80e2-9a020d1bc743",
   "metadata": {},
   "outputs": [
    {
     "data": {
      "text/plain": [
       "tensor([[1, 2, 3],\n",
       "        [4, 5, 6]])"
      ]
     },
     "execution_count": 43,
     "metadata": {},
     "output_type": "execute_result"
    }
   ],
   "source": [
    "tensor = t.arange(1, 7)\n",
    "rearrange(tensor, '(b1 b2) -> b1 b2', b1=2)"
   ]
  },
  {
   "cell_type": "code",
   "execution_count": 44,
   "id": "935684fc-f309-45c5-af84-288fb3c82c50",
   "metadata": {},
   "outputs": [
    {
     "data": {
      "text/plain": [
       "tensor([[[1]],\n",
       "\n",
       "        [[2]],\n",
       "\n",
       "        [[3]],\n",
       "\n",
       "        [[4]],\n",
       "\n",
       "        [[5]],\n",
       "\n",
       "        [[6]]])"
      ]
     },
     "execution_count": 44,
     "metadata": {},
     "output_type": "execute_result"
    }
   ],
   "source": [
    "tensor = t.arange(1, 7)\n",
    "rearrange(tensor, 'b -> b 1 1')"
   ]
  },
  {
   "cell_type": "markdown",
   "id": "daa80a6a-f86c-4a5a-a7a3-a6da0f2aee67",
   "metadata": {},
   "source": [
    "# 2"
   ]
  },
  {
   "cell_type": "code",
   "execution_count": 48,
   "id": "865b42a4-44d1-421a-a785-ad4b6776b1b8",
   "metadata": {},
   "outputs": [
    {
     "data": {
      "text/plain": [
       "tensor([71.5714, 62.1429, 79.0000])"
      ]
     },
     "execution_count": 48,
     "metadata": {},
     "output_type": "execute_result"
    }
   ],
   "source": [
    "temps_flat = t.Tensor([71,72,70,75,71,72,70, 68,65,60,68,60,55,59, 75,80,85,80,78,72,83])\n",
    "temps = rearrange(temps_flat, '(r c) -> r c', c=7)\n",
    "\n",
    "means = einops.reduce(temps, 'r c -> r', 'mean')\n",
    "means"
   ]
  },
  {
   "cell_type": "code",
   "execution_count": 51,
   "id": "a1fd7d80-189c-46ff-82d2-7cbcabb7cf8b",
   "metadata": {},
   "outputs": [
    {
     "data": {
      "text/plain": [
       "tensor([-0.5714,  0.4286, -1.5714,  3.4286, -0.5714,  0.4286, -1.5714,  5.8571,\n",
       "         2.8571, -2.1429,  5.8571, -2.1429, -7.1429, -3.1429, -4.0000,  1.0000,\n",
       "         6.0000,  1.0000, -1.0000, -7.0000,  4.0000])"
      ]
     },
     "execution_count": 51,
     "metadata": {},
     "output_type": "execute_result"
    }
   ],
   "source": [
    "repeated = einops.repeat(means, 'r -> r 7')\n",
    "diff_from_mean = temps - repeated\n",
    "\n",
    "rearrange(diff_from_mean, 'r c -> (r c)')"
   ]
  },
  {
   "cell_type": "code",
   "execution_count": 62,
   "id": "b02121cf-34cf-43eb-a1d0-99b68c93c3c2",
   "metadata": {},
   "outputs": [
    {
     "data": {
      "text/plain": [
       "tensor([-0.3326,  0.2494, -0.9146,  1.9954, -0.3326,  0.2494, -0.9146,  1.1839,\n",
       "         0.5775, -0.4331,  1.1839, -0.4331, -1.4438, -0.6353, -0.8944,  0.2236,\n",
       "         1.3416,  0.2236, -0.2236, -1.5652,  0.8944])"
      ]
     },
     "execution_count": 62,
     "metadata": {},
     "output_type": "execute_result"
    }
   ],
   "source": [
    "std_devs = t.std(diff_from_mean, 1)\n",
    "normalized = diff_from_mean / repeat(std_devs, 'r -> r 7')\n",
    "rearrange(normalized,  'r c -> (r c)')"
   ]
  },
  {
   "cell_type": "markdown",
   "id": "ba735dba-bd7d-4c56-9b7d-bd55067f030b",
   "metadata": {},
   "source": [
    "# 3\n",
    "\n",
    "Compute a batched dot product. Your function should take two tensors of the same shape [i1, i2...in] (which could be any shape!) and return one where the element at index [i1, i2….in-1] is the dot product of a[i1,i2...in-1] and b[i1,i2...in-1]. For example: ( t.Tensor([[1,1,0],[0,0,1]]),t.Tensor([[1,1,0],[1,1,0]]) ) -> t.Tensor([2., 0.])\n",
    "\n",
    "note: you can use “...” in einops (and einsum) to represent an arbitrary number of dimensions\n"
   ]
  },
  {
   "cell_type": "code",
   "execution_count": 80,
   "id": "35412609-b3c9-4d44-b60a-121e23853210",
   "metadata": {},
   "outputs": [],
   "source": [
    "def batched_dot(t1, t2):\n",
    "    return t.einsum('...n,...n->...', t1, t2)\n",
    "\n",
    "t1 = t.Tensor([[1,1,0],[0,0,1]])\n",
    "t2 = t.Tensor([[1,1,0],[1,1,0]])\n",
    "\n",
    "assert batched_dot(t1, t2).equal(t.Tensor([2., 0.]))\n",
    "\n",
    "t3 = t.Tensor([\n",
    "    [\n",
    "        [1,1,0],\n",
    "        [0,0,1]\n",
    "    ],[\n",
    "        [0,1,0],\n",
    "        [1,1,1]\n",
    "    ]\n",
    "])\n",
    "    \n",
    "t4 = t.Tensor([\n",
    "    [\n",
    "        [1,1,0],\n",
    "        [1,1,0]\n",
    "    ],[\n",
    "        [0,1,0],\n",
    "        [1,1,1]\n",
    "    ]\n",
    "])\n",
    "    \n",
    "assert batched_dot(t3, t4).equal(t.Tensor([[2., 0.],[1., 3.]]))"
   ]
  },
  {
   "cell_type": "markdown",
   "id": "6b4b6e29-7d4e-498f-97ca-ddee40dfd034",
   "metadata": {},
   "source": [
    "# 4"
   ]
  },
  {
   "cell_type": "code",
   "execution_count": 108,
   "id": "d332c8e5-866b-47f7-b18d-c0ed59ffdcf1",
   "metadata": {},
   "outputs": [
    {
     "data": {
      "text/plain": [
       "tensor([[1, 0, 0, 0, 0, 0, 0],\n",
       "        [0, 1, 0, 0, 0, 0, 0],\n",
       "        [0, 0, 1, 0, 0, 0, 0],\n",
       "        [0, 0, 0, 1, 0, 0, 0],\n",
       "        [0, 0, 0, 0, 1, 0, 0],\n",
       "        [0, 0, 0, 0, 0, 1, 0],\n",
       "        [0, 0, 0, 0, 0, 0, 1]], dtype=torch.int32)"
      ]
     },
     "execution_count": 108,
     "metadata": {},
     "output_type": "execute_result"
    }
   ],
   "source": [
    "def identity(n):  \n",
    "    return 1 - (rearrange(t.arange(n**2), '(n1 n2)->n1 n2', n1=n) % (n+1)).bool().int()\n",
    "\n",
    "identity(7)"
   ]
  },
  {
   "cell_type": "markdown",
   "id": "acc118fa-a358-4499-ad9b-33847fe15b89",
   "metadata": {},
   "source": [
    "# 5"
   ]
  },
  {
   "cell_type": "code",
   "execution_count": 156,
   "id": "0f4f9428-8b82-4764-8f76-503fac2380b0",
   "metadata": {},
   "outputs": [],
   "source": [
    "n =  5\n",
    "p = t.Tensor([0.05, 0.1, 0.1, 0.2, 0.15, 0.4])\n",
    "\n",
    "def rolls(n, p):\n",
    "    k = p.shape[0]\n",
    "    cdf = repeat(t.cumsum(p, 0), 'r-> n r', n=n)\n",
    "    rolls = repeat(t.rand((n,)), 'c -> c k', k = k)\n",
    "\n",
    "    return (rolls > cdf).sum(1)\n"
   ]
  },
  {
   "cell_type": "markdown",
   "id": "19d3c821-38fe-41fa-9bc2-4a44653f5eed",
   "metadata": {},
   "source": [
    "# 6\n",
    "\n",
    "Suppose your classifier gives you an array of scores with shape [n_inputs, n_classes], where the (i, j)-element represents how confidently the classifier thinks that example i belongs to class j. A higher number represents higher confidence, and the classifier’s prediction is the class with the highest score. \n",
    "\n",
    "Given such a score array and a vector of correct classes of length n_inputs, return the accuracy of the classifier: the fraction of inputs for which the maximum score corresponds to the correct class for that input.\n",
    "\n",
    "```\n",
    "(tensor([[0.75, 0.5, 0.25], [0.1, 0.5, 0.4], [0.1, 0.7, 0.2]], tensor([0, 1, 0]))\n",
    "->\n",
    "tensor(0.6667)\n",
    "```\n"
   ]
  },
  {
   "cell_type": "code",
   "execution_count": 168,
   "id": "14f12b29-d648-4a92-94c3-e9f11b331efd",
   "metadata": {},
   "outputs": [
    {
     "data": {
      "text/plain": [
       "tensor(0.6667)"
      ]
     },
     "execution_count": 168,
     "metadata": {},
     "output_type": "execute_result"
    }
   ],
   "source": [
    "acc = lambda scores, y: (scores.argmax(1) == y).sum() / y.shape[0]\n",
    "\n",
    "\n",
    "scores = t.Tensor([[0.75, 0.5, 0.25], [0.1, 0.5, 0.4], [0.1, 0.7, 0.2]])\n",
    "y = t.Tensor([0, 1, 0])\n",
    "acc(scores, y)"
   ]
  },
  {
   "cell_type": "markdown",
   "id": "4dfbaab6-a3f3-45e4-ac0d-ccfa524cff39",
   "metadata": {},
   "source": [
    "# 7\n",
    "\n",
    "A shop sells K different items, charging prices[k] for item k (for k between 0 and K-1). Given a vector of item indices representing what different customers bought, calculate how much money the shop made.\n",
    "\n",
    "```\n",
    "(prices=tensor([0.5, 1, 1.5, 2, 2.5], items=tensor([0, 0, 1, 1, 4, 3, 2])))\n",
    "->\n",
    "tensor(9.)\n",
    "```"
   ]
  },
  {
   "cell_type": "code",
   "execution_count": 183,
   "id": "a07916f1-388a-40ef-963b-328c8fb99e35",
   "metadata": {},
   "outputs": [
    {
     "data": {
      "text/plain": [
       "tensor(9.)"
      ]
     },
     "execution_count": 183,
     "metadata": {},
     "output_type": "execute_result"
    }
   ],
   "source": [
    "sales = lambda prices, items: t.index_select(prices, 0, items).sum()\n",
    "\n",
    "prices=t.Tensor([0.5, 1, 1.5, 2, 2.5])\n",
    "items=t.Tensor([0, 0, 1, 1, 4, 3, 2]).int()\n",
    "sales(prices, items)"
   ]
  }
 ],
 "metadata": {
  "kernelspec": {
   "display_name": "Python 3 (ipykernel)",
   "language": "python",
   "name": "python3"
  },
  "language_info": {
   "codemirror_mode": {
    "name": "ipython",
    "version": 3
   },
   "file_extension": ".py",
   "mimetype": "text/x-python",
   "name": "python",
   "nbconvert_exporter": "python",
   "pygments_lexer": "ipython3",
   "version": "3.8.12"
  }
 },
 "nbformat": 4,
 "nbformat_minor": 5
}
